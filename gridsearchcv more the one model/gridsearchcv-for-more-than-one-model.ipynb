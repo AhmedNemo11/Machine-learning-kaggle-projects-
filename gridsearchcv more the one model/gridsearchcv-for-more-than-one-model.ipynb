{
 "cells": [
  {
   "cell_type": "code",
   "execution_count": 1,
   "id": "3ca4cdb2",
   "metadata": {
    "_cell_guid": "b1076dfc-b9ad-4769-8c92-a6c4dae69d19",
    "_uuid": "8f2839f25d086af736a60e9eeb907d3b93b6e0e5",
    "execution": {
     "iopub.execute_input": "2024-01-15T11:54:52.885979Z",
     "iopub.status.busy": "2024-01-15T11:54:52.885665Z",
     "iopub.status.idle": "2024-01-15T11:54:55.678961Z",
     "shell.execute_reply": "2024-01-15T11:54:55.677532Z"
    },
    "papermill": {
     "duration": 2.799783,
     "end_time": "2024-01-15T11:54:55.681518",
     "exception": false,
     "start_time": "2024-01-15T11:54:52.881735",
     "status": "completed"
    },
    "tags": []
   },
   "outputs": [],
   "source": [
    "#import data sit\n",
    "from sklearn.datasets import load_iris\n",
    "\n",
    "#import pandas\n",
    "import pandas as pd\n",
    "\n",
    "#import model_selection(GridSearchCV)\n",
    "from sklearn.model_selection import GridSearchCV\n",
    "\n",
    "# import models (RandomForestClassifier, LogisticRegression,SVC)\n",
    "from sklearn.ensemble import RandomForestClassifier\n",
    "from sklearn.linear_model import LogisticRegression\n",
    "from sklearn.svm import SVC"
   ]
  },
  {
   "cell_type": "code",
   "execution_count": 2,
   "id": "2e90e06c",
   "metadata": {
    "execution": {
     "iopub.execute_input": "2024-01-15T11:54:55.690841Z",
     "iopub.status.busy": "2024-01-15T11:54:55.690318Z",
     "iopub.status.idle": "2024-01-15T11:54:55.737314Z",
     "shell.execute_reply": "2024-01-15T11:54:55.736446Z"
    },
    "papermill": {
     "duration": 0.053617,
     "end_time": "2024-01-15T11:54:55.739278",
     "exception": false,
     "start_time": "2024-01-15T11:54:55.685661",
     "status": "completed"
    },
    "tags": []
   },
   "outputs": [
    {
     "data": {
      "text/html": [
       "<div>\n",
       "<style scoped>\n",
       "    .dataframe tbody tr th:only-of-type {\n",
       "        vertical-align: middle;\n",
       "    }\n",
       "\n",
       "    .dataframe tbody tr th {\n",
       "        vertical-align: top;\n",
       "    }\n",
       "\n",
       "    .dataframe thead th {\n",
       "        text-align: right;\n",
       "    }\n",
       "</style>\n",
       "<table border=\"1\" class=\"dataframe\">\n",
       "  <thead>\n",
       "    <tr style=\"text-align: right;\">\n",
       "      <th></th>\n",
       "      <th>sepal length (cm)</th>\n",
       "      <th>sepal width (cm)</th>\n",
       "      <th>petal length (cm)</th>\n",
       "      <th>petal width (cm)</th>\n",
       "      <th>target</th>\n",
       "    </tr>\n",
       "  </thead>\n",
       "  <tbody>\n",
       "    <tr>\n",
       "      <th>0</th>\n",
       "      <td>5.1</td>\n",
       "      <td>3.5</td>\n",
       "      <td>1.4</td>\n",
       "      <td>0.2</td>\n",
       "      <td>0</td>\n",
       "    </tr>\n",
       "    <tr>\n",
       "      <th>1</th>\n",
       "      <td>4.9</td>\n",
       "      <td>3.0</td>\n",
       "      <td>1.4</td>\n",
       "      <td>0.2</td>\n",
       "      <td>0</td>\n",
       "    </tr>\n",
       "    <tr>\n",
       "      <th>2</th>\n",
       "      <td>4.7</td>\n",
       "      <td>3.2</td>\n",
       "      <td>1.3</td>\n",
       "      <td>0.2</td>\n",
       "      <td>0</td>\n",
       "    </tr>\n",
       "    <tr>\n",
       "      <th>3</th>\n",
       "      <td>4.6</td>\n",
       "      <td>3.1</td>\n",
       "      <td>1.5</td>\n",
       "      <td>0.2</td>\n",
       "      <td>0</td>\n",
       "    </tr>\n",
       "    <tr>\n",
       "      <th>4</th>\n",
       "      <td>5.0</td>\n",
       "      <td>3.6</td>\n",
       "      <td>1.4</td>\n",
       "      <td>0.2</td>\n",
       "      <td>0</td>\n",
       "    </tr>\n",
       "    <tr>\n",
       "      <th>...</th>\n",
       "      <td>...</td>\n",
       "      <td>...</td>\n",
       "      <td>...</td>\n",
       "      <td>...</td>\n",
       "      <td>...</td>\n",
       "    </tr>\n",
       "    <tr>\n",
       "      <th>145</th>\n",
       "      <td>6.7</td>\n",
       "      <td>3.0</td>\n",
       "      <td>5.2</td>\n",
       "      <td>2.3</td>\n",
       "      <td>2</td>\n",
       "    </tr>\n",
       "    <tr>\n",
       "      <th>146</th>\n",
       "      <td>6.3</td>\n",
       "      <td>2.5</td>\n",
       "      <td>5.0</td>\n",
       "      <td>1.9</td>\n",
       "      <td>2</td>\n",
       "    </tr>\n",
       "    <tr>\n",
       "      <th>147</th>\n",
       "      <td>6.5</td>\n",
       "      <td>3.0</td>\n",
       "      <td>5.2</td>\n",
       "      <td>2.0</td>\n",
       "      <td>2</td>\n",
       "    </tr>\n",
       "    <tr>\n",
       "      <th>148</th>\n",
       "      <td>6.2</td>\n",
       "      <td>3.4</td>\n",
       "      <td>5.4</td>\n",
       "      <td>2.3</td>\n",
       "      <td>2</td>\n",
       "    </tr>\n",
       "    <tr>\n",
       "      <th>149</th>\n",
       "      <td>5.9</td>\n",
       "      <td>3.0</td>\n",
       "      <td>5.1</td>\n",
       "      <td>1.8</td>\n",
       "      <td>2</td>\n",
       "    </tr>\n",
       "  </tbody>\n",
       "</table>\n",
       "<p>150 rows × 5 columns</p>\n",
       "</div>"
      ],
      "text/plain": [
       "     sepal length (cm)  sepal width (cm)  petal length (cm)  petal width (cm)  \\\n",
       "0                  5.1               3.5                1.4               0.2   \n",
       "1                  4.9               3.0                1.4               0.2   \n",
       "2                  4.7               3.2                1.3               0.2   \n",
       "3                  4.6               3.1                1.5               0.2   \n",
       "4                  5.0               3.6                1.4               0.2   \n",
       "..                 ...               ...                ...               ...   \n",
       "145                6.7               3.0                5.2               2.3   \n",
       "146                6.3               2.5                5.0               1.9   \n",
       "147                6.5               3.0                5.2               2.0   \n",
       "148                6.2               3.4                5.4               2.3   \n",
       "149                5.9               3.0                5.1               1.8   \n",
       "\n",
       "     target  \n",
       "0         0  \n",
       "1         0  \n",
       "2         0  \n",
       "3         0  \n",
       "4         0  \n",
       "..      ...  \n",
       "145       2  \n",
       "146       2  \n",
       "147       2  \n",
       "148       2  \n",
       "149       2  \n",
       "\n",
       "[150 rows x 5 columns]"
      ]
     },
     "execution_count": 2,
     "metadata": {},
     "output_type": "execute_result"
    }
   ],
   "source": [
    "#load data and save it in dataframe\n",
    "data = load_iris()\n",
    "df = pd.DataFrame(data.data,columns=data.feature_names)\n",
    "df['target'] = data.target\n",
    "df"
   ]
  },
  {
   "cell_type": "code",
   "execution_count": 3,
   "id": "d23ced61",
   "metadata": {
    "execution": {
     "iopub.execute_input": "2024-01-15T11:54:55.746183Z",
     "iopub.status.busy": "2024-01-15T11:54:55.745625Z",
     "iopub.status.idle": "2024-01-15T11:54:55.753335Z",
     "shell.execute_reply": "2024-01-15T11:54:55.751596Z"
    },
    "papermill": {
     "duration": 0.013597,
     "end_time": "2024-01-15T11:54:55.755737",
     "exception": false,
     "start_time": "2024-01-15T11:54:55.742140",
     "status": "completed"
    },
    "tags": []
   },
   "outputs": [],
   "source": [
    "# make a dictionary for name of models and params models\n",
    "models = {\n",
    "    'RandomForestClassifier':{\n",
    "        'model': RandomForestClassifier(),\n",
    "        'params' : {\n",
    "                     'n_estimators': [1,5,10]\n",
    "                   }\n",
    "        },\n",
    "    'SVC':{\n",
    "        'model': SVC(gamma='auto'),\n",
    "        'params' : {\n",
    "                    'C':[1,10,20],\n",
    "                    'kernel':['rbf','linear']\n",
    "                   }\n",
    "\n",
    "         },\n",
    "    'LogisticRegression':{\n",
    "        'model':LogisticRegression(solver='liblinear',multi_class='auto'),\n",
    "        'params':{\n",
    "                   'C':[1,5,10,20]\n",
    "\n",
    "                 }\n",
    "        }\n",
    "\n",
    "}"
   ]
  },
  {
   "cell_type": "code",
   "execution_count": 4,
   "id": "d308c46f",
   "metadata": {
    "execution": {
     "iopub.execute_input": "2024-01-15T11:54:55.761870Z",
     "iopub.status.busy": "2024-01-15T11:54:55.761493Z",
     "iopub.status.idle": "2024-01-15T11:54:56.028712Z",
     "shell.execute_reply": "2024-01-15T11:54:56.027338Z"
    },
    "papermill": {
     "duration": 0.273206,
     "end_time": "2024-01-15T11:54:56.031275",
     "exception": false,
     "start_time": "2024-01-15T11:54:55.758069",
     "status": "completed"
    },
    "tags": []
   },
   "outputs": [],
   "source": [
    "#make aloop in the dictoinary from models and params and GridSearch in items and save the bast score and best params in list\n",
    "targett = []\n",
    "for model_name,mp in models.items():\n",
    "    clf = GridSearchCV(mp['model'],mp['params'],cv=5,return_train_score=False)\n",
    "    clf.fit(data.data,data.target)\n",
    "    targett.append({\n",
    "        'name': model_name,\n",
    "        'best_score':clf.best_score_,\n",
    "        'best_params':clf.best_params_\n",
    "    })"
   ]
  },
  {
   "cell_type": "code",
   "execution_count": 5,
   "id": "03e33723",
   "metadata": {
    "execution": {
     "iopub.execute_input": "2024-01-15T11:54:56.041392Z",
     "iopub.status.busy": "2024-01-15T11:54:56.038786Z",
     "iopub.status.idle": "2024-01-15T11:54:56.058659Z",
     "shell.execute_reply": "2024-01-15T11:54:56.057061Z"
    },
    "papermill": {
     "duration": 0.028217,
     "end_time": "2024-01-15T11:54:56.061999",
     "exception": false,
     "start_time": "2024-01-15T11:54:56.033782",
     "status": "completed"
    },
    "tags": []
   },
   "outputs": [
    {
     "data": {
      "text/html": [
       "<div>\n",
       "<style scoped>\n",
       "    .dataframe tbody tr th:only-of-type {\n",
       "        vertical-align: middle;\n",
       "    }\n",
       "\n",
       "    .dataframe tbody tr th {\n",
       "        vertical-align: top;\n",
       "    }\n",
       "\n",
       "    .dataframe thead th {\n",
       "        text-align: right;\n",
       "    }\n",
       "</style>\n",
       "<table border=\"1\" class=\"dataframe\">\n",
       "  <thead>\n",
       "    <tr style=\"text-align: right;\">\n",
       "      <th></th>\n",
       "      <th>name</th>\n",
       "      <th>best_score</th>\n",
       "      <th>best_params</th>\n",
       "    </tr>\n",
       "  </thead>\n",
       "  <tbody>\n",
       "    <tr>\n",
       "      <th>0</th>\n",
       "      <td>RandomForestClassifier</td>\n",
       "      <td>0.953333</td>\n",
       "      <td>{'n_estimators': 5}</td>\n",
       "    </tr>\n",
       "    <tr>\n",
       "      <th>1</th>\n",
       "      <td>SVC</td>\n",
       "      <td>0.980000</td>\n",
       "      <td>{'C': 1, 'kernel': 'rbf'}</td>\n",
       "    </tr>\n",
       "    <tr>\n",
       "      <th>2</th>\n",
       "      <td>LogisticRegression</td>\n",
       "      <td>0.966667</td>\n",
       "      <td>{'C': 5}</td>\n",
       "    </tr>\n",
       "  </tbody>\n",
       "</table>\n",
       "</div>"
      ],
      "text/plain": [
       "                     name  best_score                best_params\n",
       "0  RandomForestClassifier    0.953333        {'n_estimators': 5}\n",
       "1                     SVC    0.980000  {'C': 1, 'kernel': 'rbf'}\n",
       "2      LogisticRegression    0.966667                   {'C': 5}"
      ]
     },
     "execution_count": 5,
     "metadata": {},
     "output_type": "execute_result"
    }
   ],
   "source": [
    "#make dataframe for list in result\n",
    "result = pd.DataFrame(targett)\n",
    "result"
   ]
  }
 ],
 "metadata": {
  "kaggle": {
   "accelerator": "none",
   "dataSources": [
    {
     "datasetId": 4207990,
     "sourceId": 7260889,
     "sourceType": "datasetVersion"
    }
   ],
   "dockerImageVersionId": 30635,
   "isGpuEnabled": false,
   "isInternetEnabled": true,
   "language": "python",
   "sourceType": "notebook"
  },
  "kernelspec": {
   "display_name": "Python 3",
   "language": "python",
   "name": "python3"
  },
  "language_info": {
   "codemirror_mode": {
    "name": "ipython",
    "version": 3
   },
   "file_extension": ".py",
   "mimetype": "text/x-python",
   "name": "python",
   "nbconvert_exporter": "python",
   "pygments_lexer": "ipython3",
   "version": "3.10.12"
  },
  "papermill": {
   "default_parameters": {},
   "duration": 10.650743,
   "end_time": "2024-01-15T11:54:59.100786",
   "environment_variables": {},
   "exception": null,
   "input_path": "__notebook__.ipynb",
   "output_path": "__notebook__.ipynb",
   "parameters": {},
   "start_time": "2024-01-15T11:54:48.450043",
   "version": "2.4.0"
  }
 },
 "nbformat": 4,
 "nbformat_minor": 5
}
