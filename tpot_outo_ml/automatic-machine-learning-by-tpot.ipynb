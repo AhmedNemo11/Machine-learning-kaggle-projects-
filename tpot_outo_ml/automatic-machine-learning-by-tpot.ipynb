{
 "cells": [
  {
   "cell_type": "markdown",
   "id": "2e21b02e",
   "metadata": {
    "papermill": {
     "duration": 0.009581,
     "end_time": "2024-01-18T20:39:05.603236",
     "exception": false,
     "start_time": "2024-01-18T20:39:05.593655",
     "status": "completed"
    },
    "tags": []
   },
   "source": [
    "# What is TPOT?"
   ]
  },
  {
   "cell_type": "markdown",
   "id": "56fca0c1",
   "metadata": {
    "papermill": {
     "duration": 0.00968,
     "end_time": "2024-01-18T20:39:05.622225",
     "exception": false,
     "start_time": "2024-01-18T20:39:05.612545",
     "status": "completed"
    },
    "tags": []
   },
   "source": [
    "TPOT is an extremely useful library for automating the process of selecting the best Machine Learning model and corresponding hyperparameters, saving you time and optimizing your results. Instead of manually testing different models and configurations for each new dataset, TPOT can explore a multitude of Machine Learning pipelines and determine the one most suitable for your specific dataset using genetic programming.\n",
    "\n",
    "In summary, TPOT simplifies the search for the optimal model and parameters by automating the process, which can significantly speed up the development of Machine Learning models and help you achieve better performance in your data analysis tasks."
   ]
  },
  {
   "cell_type": "markdown",
   "id": "5444cf5a",
   "metadata": {
    "papermill": {
     "duration": 0.008674,
     "end_time": "2024-01-18T20:39:05.639977",
     "exception": false,
     "start_time": "2024-01-18T20:39:05.631303",
     "status": "completed"
    },
    "tags": []
   },
   "source": [
    "# Why use TPOT?"
   ]
  },
  {
   "cell_type": "markdown",
   "id": "abd4f768",
   "metadata": {
    "papermill": {
     "duration": 0.008705,
     "end_time": "2024-01-18T20:39:05.657576",
     "exception": false,
     "start_time": "2024-01-18T20:39:05.648871",
     "status": "completed"
    },
    "tags": []
   },
   "source": [
    "Automatic Machine Learning (AutoML) tools address a simple problem: how to make the creation and training of models less time-consuming?\n",
    "\n",
    "AutoML, as the name suggests, automates a large part of the model creation process without sacrificing quality, allowing Data Scientists to focus on analysis. Its pipeline consists of several processes that help build a high-performing Machine Learning model (feature engineering, model generation, hyperparameter optimization).\n",
    "\n",
    "To clarify, in Machine Learning, a pipeline encodes and automates the workflow that transforms and correlates data into a model that can be analyzed. The data loading into the model is entirely automated.\n",
    "\n",
    "A pipeline can also be used to separate the workflow of a model into different independent and reusable parts, simplifying its creation and avoiding task repetition.\n",
    "\n",
    "A good pipeline enhances the efficiency and scalability of building and deploying Machine Learning models.\n",
    "\n",
    "Additionally, TPOT offers great flexibility as it can be adapted for neural network models with PyTorch. TPOT also supports the use of Dask for parallel training, further enhancing its capabilities."
   ]
  },
  {
   "cell_type": "markdown",
   "id": "5ccbfcad",
   "metadata": {
    "papermill": {
     "duration": 0.008714,
     "end_time": "2024-01-18T20:39:05.675184",
     "exception": false,
     "start_time": "2024-01-18T20:39:05.666470",
     "status": "completed"
    },
    "tags": []
   },
   "source": [
    "# How does TPOT work?"
   ]
  },
  {
   "cell_type": "markdown",
   "id": "10995684",
   "metadata": {
    "papermill": {
     "duration": 0.008622,
     "end_time": "2024-01-18T20:39:05.692822",
     "exception": false,
     "start_time": "2024-01-18T20:39:05.684200",
     "status": "completed"
    },
    "tags": []
   },
   "source": [
    "TPOT, or Tree-based Pipeline Optimization, uses a structure based on binary decision trees to represent a pipeline model. This includes data preparation, algorithm modeling, hyperparameter settings and model selection.\n",
    "\n",
    "Below is an example of a pipeline showing the elements automated by TPOT:"
   ]
  },
  {
   "cell_type": "markdown",
   "id": "03bf5309",
   "metadata": {
    "papermill": {
     "duration": 0.0087,
     "end_time": "2024-01-18T20:39:05.710411",
     "exception": false,
     "start_time": "2024-01-18T20:39:05.701711",
     "status": "completed"
    },
    "tags": []
   },
   "source": [
    "![IMG](https://datascientest.com/wp-content/uploads/2023/04/image1-1.png)"
   ]
  },
  {
   "cell_type": "markdown",
   "id": "58a94531",
   "metadata": {
    "papermill": {
     "duration": 0.008616,
     "end_time": "2024-01-18T20:39:05.727960",
     "exception": false,
     "start_time": "2024-01-18T20:39:05.719344",
     "status": "completed"
    },
    "tags": []
   },
   "source": [
    "By combining stochastic search algorithms like genetic programming and a flexible expression tree representation, TPOT automatically designs and optimizes features, Machine Learning models, and hyperparameters. The goal is to maximize the accuracy of supervised classification on your dataset.\n",
    "\n",
    "It’s essential to note that finding the most optimized pipeline may require letting TPOT work for a certain amount of time. Running TPOT for just a few minutes may not be sufficient to discover the best model for your dataset.\n",
    "\n",
    "Depending on the size of your dataset, TPOT can take several hours or even days to complete its search. For a comprehensive and effective search, it’s recommended to run multiple instances concurrently for several hours.\n",
    "\n",
    "Since TPOT’s optimization algorithm is stochastic, meaning it involves partial randomization, it’s possible that two runs may recommend different pipelines for the same dataset.\n",
    "\n",
    "In such cases, either the pipelines may not match due to limited runtime or they may have very similar performance scores.\n"
   ]
  },
  {
   "cell_type": "markdown",
   "id": "30c50bf6",
   "metadata": {
    "papermill": {
     "duration": 0.008621,
     "end_time": "2024-01-18T20:39:05.745477",
     "exception": false,
     "start_time": "2024-01-18T20:39:05.736856",
     "status": "completed"
    },
    "tags": []
   },
   "source": [
    "# Find the best pipeline with TPOT"
   ]
  },
  {
   "cell_type": "markdown",
   "id": "ffe14dd6",
   "metadata": {
    "papermill": {
     "duration": 0.008536,
     "end_time": "2024-01-18T20:39:05.763074",
     "exception": false,
     "start_time": "2024-01-18T20:39:05.754538",
     "status": "completed"
    },
    "tags": []
   },
   "source": [
    "Now that we understand what TPOT is and its significance, let’s see how to set it up and use it. As a reminder, TPOT is based on scikit-learn, which makes its code familiar if you have already worked with this library.\n",
    "\n",
    "1. Start by importing the TPOT modules and any other modules you need to define your model: ‘pip install tpot’.\n",
    "2.  During the data transformation step, it’s crucial to rename the target variable and give it the name ‘class’.\n",
    "TPOT only handles data in numeric format, so you will need to apply the necessary transformations to the explanatory variables.\n",
    "3. After splitting your dataset into a training set and a test set, you can define your TPOT Classifier and its parameters.\n",
    "4. To apply TPOT to your dataset, simply use the .fit() method.\n",
    "5. Once the computation is complete, you will see the best pipeline for your dataset in the output. You can then use the .score() method to measure the performance of the model chosen by TPOT."
   ]
  },
  {
   "cell_type": "markdown",
   "id": "b6ed6010",
   "metadata": {
    "papermill": {
     "duration": 0.009079,
     "end_time": "2024-01-18T20:39:05.780985",
     "exception": false,
     "start_time": "2024-01-18T20:39:05.771906",
     "status": "completed"
    },
    "tags": []
   },
   "source": [
    "# Import Needed Libraries"
   ]
  },
  {
   "cell_type": "code",
   "execution_count": 1,
   "id": "e0192d53",
   "metadata": {
    "execution": {
     "iopub.execute_input": "2024-01-18T20:39:05.801732Z",
     "iopub.status.busy": "2024-01-18T20:39:05.801305Z",
     "iopub.status.idle": "2024-01-18T20:39:22.575385Z",
     "shell.execute_reply": "2024-01-18T20:39:22.574006Z"
    },
    "papermill": {
     "duration": 16.788039,
     "end_time": "2024-01-18T20:39:22.578498",
     "exception": false,
     "start_time": "2024-01-18T20:39:05.790459",
     "status": "completed"
    },
    "tags": []
   },
   "outputs": [
    {
     "name": "stdout",
     "output_type": "stream",
     "text": [
      "Requirement already satisfied: tpot in /opt/conda/lib/python3.10/site-packages (0.12.1)\r\n",
      "Requirement already satisfied: numpy>=1.16.3 in /opt/conda/lib/python3.10/site-packages (from tpot) (1.24.3)\r\n",
      "Requirement already satisfied: scipy>=1.3.1 in /opt/conda/lib/python3.10/site-packages (from tpot) (1.11.4)\r\n",
      "Requirement already satisfied: scikit-learn>=0.22.0 in /opt/conda/lib/python3.10/site-packages (from tpot) (1.2.2)\r\n",
      "Requirement already satisfied: deap>=1.2 in /opt/conda/lib/python3.10/site-packages (from tpot) (1.4.1)\r\n",
      "Requirement already satisfied: update-checker>=0.16 in /opt/conda/lib/python3.10/site-packages (from tpot) (0.18.0)\r\n",
      "Requirement already satisfied: tqdm>=4.36.1 in /opt/conda/lib/python3.10/site-packages (from tpot) (4.66.1)\r\n",
      "Requirement already satisfied: stopit>=1.1.1 in /opt/conda/lib/python3.10/site-packages (from tpot) (1.1.2)\r\n",
      "Requirement already satisfied: pandas>=0.24.2 in /opt/conda/lib/python3.10/site-packages (from tpot) (2.0.3)\r\n",
      "Requirement already satisfied: joblib>=0.13.2 in /opt/conda/lib/python3.10/site-packages (from tpot) (1.3.2)\r\n",
      "Requirement already satisfied: xgboost>=1.1.0 in /opt/conda/lib/python3.10/site-packages (from tpot) (2.0.3)\r\n",
      "Requirement already satisfied: python-dateutil>=2.8.2 in /opt/conda/lib/python3.10/site-packages (from pandas>=0.24.2->tpot) (2.8.2)\r\n",
      "Requirement already satisfied: pytz>=2020.1 in /opt/conda/lib/python3.10/site-packages (from pandas>=0.24.2->tpot) (2023.3)\r\n",
      "Requirement already satisfied: tzdata>=2022.1 in /opt/conda/lib/python3.10/site-packages (from pandas>=0.24.2->tpot) (2023.3)\r\n",
      "Requirement already satisfied: threadpoolctl>=2.0.0 in /opt/conda/lib/python3.10/site-packages (from scikit-learn>=0.22.0->tpot) (3.2.0)\r\n",
      "Requirement already satisfied: requests>=2.3.0 in /opt/conda/lib/python3.10/site-packages (from update-checker>=0.16->tpot) (2.31.0)\r\n",
      "Requirement already satisfied: six>=1.5 in /opt/conda/lib/python3.10/site-packages (from python-dateutil>=2.8.2->pandas>=0.24.2->tpot) (1.16.0)\r\n",
      "Requirement already satisfied: charset-normalizer<4,>=2 in /opt/conda/lib/python3.10/site-packages (from requests>=2.3.0->update-checker>=0.16->tpot) (3.2.0)\r\n",
      "Requirement already satisfied: idna<4,>=2.5 in /opt/conda/lib/python3.10/site-packages (from requests>=2.3.0->update-checker>=0.16->tpot) (3.4)\r\n",
      "Requirement already satisfied: urllib3<3,>=1.21.1 in /opt/conda/lib/python3.10/site-packages (from requests>=2.3.0->update-checker>=0.16->tpot) (1.26.15)\r\n",
      "Requirement already satisfied: certifi>=2017.4.17 in /opt/conda/lib/python3.10/site-packages (from requests>=2.3.0->update-checker>=0.16->tpot) (2023.11.17)\r\n"
     ]
    }
   ],
   "source": [
    "# Tree-based Pipeline Optimization Tool\n",
    "! pip install tpot"
   ]
  },
  {
   "cell_type": "code",
   "execution_count": 2,
   "id": "2e0a2638",
   "metadata": {
    "execution": {
     "iopub.execute_input": "2024-01-18T20:39:22.601282Z",
     "iopub.status.busy": "2024-01-18T20:39:22.600740Z",
     "iopub.status.idle": "2024-01-18T20:39:29.846537Z",
     "shell.execute_reply": "2024-01-18T20:39:29.845364Z"
    },
    "papermill": {
     "duration": 7.261181,
     "end_time": "2024-01-18T20:39:29.849871",
     "exception": false,
     "start_time": "2024-01-18T20:39:22.588690",
     "status": "completed"
    },
    "tags": []
   },
   "outputs": [],
   "source": [
    "import numpy as np\n",
    "import pandas as pd\n",
    "import matplotlib.pyplot as plt\n",
    "\n",
    "from sklearn.preprocessing import LabelEncoder\n",
    "from sklearn.preprocessing import StandardScaler\n",
    "from sklearn.model_selection import train_test_split\n",
    "\n",
    "from tpot import TPOTClassifier"
   ]
  },
  {
   "cell_type": "markdown",
   "id": "7104f6a0",
   "metadata": {
    "papermill": {
     "duration": 0.009509,
     "end_time": "2024-01-18T20:39:29.869856",
     "exception": false,
     "start_time": "2024-01-18T20:39:29.860347",
     "status": "completed"
    },
    "tags": []
   },
   "source": [
    "# EDA"
   ]
  },
  {
   "cell_type": "code",
   "execution_count": 3,
   "id": "92f0595c",
   "metadata": {
    "_cell_guid": "b1076dfc-b9ad-4769-8c92-a6c4dae69d19",
    "_uuid": "8f2839f25d086af736a60e9eeb907d3b93b6e0e5",
    "execution": {
     "iopub.execute_input": "2024-01-18T20:39:29.893497Z",
     "iopub.status.busy": "2024-01-18T20:39:29.892343Z",
     "iopub.status.idle": "2024-01-18T20:39:29.951707Z",
     "shell.execute_reply": "2024-01-18T20:39:29.950542Z"
    },
    "papermill": {
     "duration": 0.074118,
     "end_time": "2024-01-18T20:39:29.954596",
     "exception": false,
     "start_time": "2024-01-18T20:39:29.880478",
     "status": "completed"
    },
    "tags": []
   },
   "outputs": [
    {
     "data": {
      "text/html": [
       "<div>\n",
       "<style scoped>\n",
       "    .dataframe tbody tr th:only-of-type {\n",
       "        vertical-align: middle;\n",
       "    }\n",
       "\n",
       "    .dataframe tbody tr th {\n",
       "        vertical-align: top;\n",
       "    }\n",
       "\n",
       "    .dataframe thead th {\n",
       "        text-align: right;\n",
       "    }\n",
       "</style>\n",
       "<table border=\"1\" class=\"dataframe\">\n",
       "  <thead>\n",
       "    <tr style=\"text-align: right;\">\n",
       "      <th></th>\n",
       "      <th>Age</th>\n",
       "      <th>Sex</th>\n",
       "      <th>ChestPainType</th>\n",
       "      <th>RestingBP</th>\n",
       "      <th>Cholesterol</th>\n",
       "      <th>FastingBS</th>\n",
       "      <th>RestingECG</th>\n",
       "      <th>MaxHR</th>\n",
       "      <th>ExerciseAngina</th>\n",
       "      <th>Oldpeak</th>\n",
       "      <th>ST_Slope</th>\n",
       "      <th>HeartDisease</th>\n",
       "    </tr>\n",
       "  </thead>\n",
       "  <tbody>\n",
       "    <tr>\n",
       "      <th>0</th>\n",
       "      <td>40</td>\n",
       "      <td>M</td>\n",
       "      <td>ATA</td>\n",
       "      <td>140</td>\n",
       "      <td>289</td>\n",
       "      <td>0</td>\n",
       "      <td>Normal</td>\n",
       "      <td>172</td>\n",
       "      <td>N</td>\n",
       "      <td>0.0</td>\n",
       "      <td>Up</td>\n",
       "      <td>0</td>\n",
       "    </tr>\n",
       "    <tr>\n",
       "      <th>1</th>\n",
       "      <td>49</td>\n",
       "      <td>F</td>\n",
       "      <td>NAP</td>\n",
       "      <td>160</td>\n",
       "      <td>180</td>\n",
       "      <td>0</td>\n",
       "      <td>Normal</td>\n",
       "      <td>156</td>\n",
       "      <td>N</td>\n",
       "      <td>1.0</td>\n",
       "      <td>Flat</td>\n",
       "      <td>1</td>\n",
       "    </tr>\n",
       "    <tr>\n",
       "      <th>2</th>\n",
       "      <td>37</td>\n",
       "      <td>M</td>\n",
       "      <td>ATA</td>\n",
       "      <td>130</td>\n",
       "      <td>283</td>\n",
       "      <td>0</td>\n",
       "      <td>ST</td>\n",
       "      <td>98</td>\n",
       "      <td>N</td>\n",
       "      <td>0.0</td>\n",
       "      <td>Up</td>\n",
       "      <td>0</td>\n",
       "    </tr>\n",
       "    <tr>\n",
       "      <th>3</th>\n",
       "      <td>48</td>\n",
       "      <td>F</td>\n",
       "      <td>ASY</td>\n",
       "      <td>138</td>\n",
       "      <td>214</td>\n",
       "      <td>0</td>\n",
       "      <td>Normal</td>\n",
       "      <td>108</td>\n",
       "      <td>Y</td>\n",
       "      <td>1.5</td>\n",
       "      <td>Flat</td>\n",
       "      <td>1</td>\n",
       "    </tr>\n",
       "    <tr>\n",
       "      <th>4</th>\n",
       "      <td>54</td>\n",
       "      <td>M</td>\n",
       "      <td>NAP</td>\n",
       "      <td>150</td>\n",
       "      <td>195</td>\n",
       "      <td>0</td>\n",
       "      <td>Normal</td>\n",
       "      <td>122</td>\n",
       "      <td>N</td>\n",
       "      <td>0.0</td>\n",
       "      <td>Up</td>\n",
       "      <td>0</td>\n",
       "    </tr>\n",
       "  </tbody>\n",
       "</table>\n",
       "</div>"
      ],
      "text/plain": [
       "   Age Sex ChestPainType  RestingBP  Cholesterol  FastingBS RestingECG  MaxHR  \\\n",
       "0   40   M           ATA        140          289          0     Normal    172   \n",
       "1   49   F           NAP        160          180          0     Normal    156   \n",
       "2   37   M           ATA        130          283          0         ST     98   \n",
       "3   48   F           ASY        138          214          0     Normal    108   \n",
       "4   54   M           NAP        150          195          0     Normal    122   \n",
       "\n",
       "  ExerciseAngina  Oldpeak ST_Slope  HeartDisease  \n",
       "0              N      0.0       Up             0  \n",
       "1              N      1.0     Flat             1  \n",
       "2              N      0.0       Up             0  \n",
       "3              Y      1.5     Flat             1  \n",
       "4              N      0.0       Up             0  "
      ]
     },
     "execution_count": 3,
     "metadata": {},
     "output_type": "execute_result"
    }
   ],
   "source": [
    "df = pd.read_csv('/kaggle/input/heart-failure-prediction/heart.csv')\n",
    "df.head()"
   ]
  },
  {
   "cell_type": "code",
   "execution_count": 4,
   "id": "49304ca1",
   "metadata": {
    "execution": {
     "iopub.execute_input": "2024-01-18T20:39:29.977418Z",
     "iopub.status.busy": "2024-01-18T20:39:29.976976Z",
     "iopub.status.idle": "2024-01-18T20:39:30.008601Z",
     "shell.execute_reply": "2024-01-18T20:39:30.007222Z"
    },
    "papermill": {
     "duration": 0.047025,
     "end_time": "2024-01-18T20:39:30.011778",
     "exception": false,
     "start_time": "2024-01-18T20:39:29.964753",
     "status": "completed"
    },
    "tags": []
   },
   "outputs": [
    {
     "name": "stdout",
     "output_type": "stream",
     "text": [
      "<class 'pandas.core.frame.DataFrame'>\n",
      "RangeIndex: 918 entries, 0 to 917\n",
      "Data columns (total 12 columns):\n",
      " #   Column          Non-Null Count  Dtype  \n",
      "---  ------          --------------  -----  \n",
      " 0   Age             918 non-null    int64  \n",
      " 1   Sex             918 non-null    object \n",
      " 2   ChestPainType   918 non-null    object \n",
      " 3   RestingBP       918 non-null    int64  \n",
      " 4   Cholesterol     918 non-null    int64  \n",
      " 5   FastingBS       918 non-null    int64  \n",
      " 6   RestingECG      918 non-null    object \n",
      " 7   MaxHR           918 non-null    int64  \n",
      " 8   ExerciseAngina  918 non-null    object \n",
      " 9   Oldpeak         918 non-null    float64\n",
      " 10  ST_Slope        918 non-null    object \n",
      " 11  HeartDisease    918 non-null    int64  \n",
      "dtypes: float64(1), int64(6), object(5)\n",
      "memory usage: 86.2+ KB\n"
     ]
    }
   ],
   "source": [
    "df.info()"
   ]
  },
  {
   "cell_type": "markdown",
   "id": "d5521e19",
   "metadata": {
    "papermill": {
     "duration": 0.009917,
     "end_time": "2024-01-18T20:39:30.032123",
     "exception": false,
     "start_time": "2024-01-18T20:39:30.022206",
     "status": "completed"
    },
    "tags": []
   },
   "source": [
    "# preprocessing"
   ]
  },
  {
   "cell_type": "markdown",
   "id": "a6b4f234",
   "metadata": {
    "papermill": {
     "duration": 0.009641,
     "end_time": "2024-01-18T20:39:30.051895",
     "exception": false,
     "start_time": "2024-01-18T20:39:30.042254",
     "status": "completed"
    },
    "tags": []
   },
   "source": [
    "### Define Features X and Traget y"
   ]
  },
  {
   "cell_type": "code",
   "execution_count": 5,
   "id": "b6ee8d98",
   "metadata": {
    "execution": {
     "iopub.execute_input": "2024-01-18T20:39:30.074486Z",
     "iopub.status.busy": "2024-01-18T20:39:30.073999Z",
     "iopub.status.idle": "2024-01-18T20:39:30.083877Z",
     "shell.execute_reply": "2024-01-18T20:39:30.082645Z"
    },
    "papermill": {
     "duration": 0.024452,
     "end_time": "2024-01-18T20:39:30.086478",
     "exception": false,
     "start_time": "2024-01-18T20:39:30.062026",
     "status": "completed"
    },
    "tags": []
   },
   "outputs": [],
   "source": [
    "X = df.iloc[:, :-1]\n",
    "y = df.iloc[:, -1]"
   ]
  },
  {
   "cell_type": "markdown",
   "id": "d1d50425",
   "metadata": {
    "papermill": {
     "duration": 0.009946,
     "end_time": "2024-01-18T20:39:30.107061",
     "exception": false,
     "start_time": "2024-01-18T20:39:30.097115",
     "status": "completed"
    },
    "tags": []
   },
   "source": [
    "### Encode string columns"
   ]
  },
  {
   "cell_type": "code",
   "execution_count": 6,
   "id": "d63bf87b",
   "metadata": {
    "execution": {
     "iopub.execute_input": "2024-01-18T20:39:30.129495Z",
     "iopub.status.busy": "2024-01-18T20:39:30.129072Z",
     "iopub.status.idle": "2024-01-18T20:39:30.148442Z",
     "shell.execute_reply": "2024-01-18T20:39:30.147576Z"
    },
    "papermill": {
     "duration": 0.033421,
     "end_time": "2024-01-18T20:39:30.150746",
     "exception": false,
     "start_time": "2024-01-18T20:39:30.117325",
     "status": "completed"
    },
    "tags": []
   },
   "outputs": [
    {
     "data": {
      "text/html": [
       "<div>\n",
       "<style scoped>\n",
       "    .dataframe tbody tr th:only-of-type {\n",
       "        vertical-align: middle;\n",
       "    }\n",
       "\n",
       "    .dataframe tbody tr th {\n",
       "        vertical-align: top;\n",
       "    }\n",
       "\n",
       "    .dataframe thead th {\n",
       "        text-align: right;\n",
       "    }\n",
       "</style>\n",
       "<table border=\"1\" class=\"dataframe\">\n",
       "  <thead>\n",
       "    <tr style=\"text-align: right;\">\n",
       "      <th></th>\n",
       "      <th>Age</th>\n",
       "      <th>Sex</th>\n",
       "      <th>ChestPainType</th>\n",
       "      <th>RestingBP</th>\n",
       "      <th>Cholesterol</th>\n",
       "      <th>FastingBS</th>\n",
       "      <th>RestingECG</th>\n",
       "      <th>MaxHR</th>\n",
       "      <th>ExerciseAngina</th>\n",
       "      <th>Oldpeak</th>\n",
       "      <th>ST_Slope</th>\n",
       "    </tr>\n",
       "  </thead>\n",
       "  <tbody>\n",
       "    <tr>\n",
       "      <th>0</th>\n",
       "      <td>12</td>\n",
       "      <td>1</td>\n",
       "      <td>1</td>\n",
       "      <td>41</td>\n",
       "      <td>147</td>\n",
       "      <td>0</td>\n",
       "      <td>1</td>\n",
       "      <td>98</td>\n",
       "      <td>0</td>\n",
       "      <td>10</td>\n",
       "      <td>2</td>\n",
       "    </tr>\n",
       "    <tr>\n",
       "      <th>1</th>\n",
       "      <td>21</td>\n",
       "      <td>0</td>\n",
       "      <td>2</td>\n",
       "      <td>55</td>\n",
       "      <td>40</td>\n",
       "      <td>0</td>\n",
       "      <td>1</td>\n",
       "      <td>82</td>\n",
       "      <td>0</td>\n",
       "      <td>20</td>\n",
       "      <td>1</td>\n",
       "    </tr>\n",
       "    <tr>\n",
       "      <th>2</th>\n",
       "      <td>9</td>\n",
       "      <td>1</td>\n",
       "      <td>1</td>\n",
       "      <td>31</td>\n",
       "      <td>141</td>\n",
       "      <td>0</td>\n",
       "      <td>2</td>\n",
       "      <td>25</td>\n",
       "      <td>0</td>\n",
       "      <td>10</td>\n",
       "      <td>2</td>\n",
       "    </tr>\n",
       "    <tr>\n",
       "      <th>3</th>\n",
       "      <td>20</td>\n",
       "      <td>0</td>\n",
       "      <td>0</td>\n",
       "      <td>39</td>\n",
       "      <td>72</td>\n",
       "      <td>0</td>\n",
       "      <td>1</td>\n",
       "      <td>34</td>\n",
       "      <td>1</td>\n",
       "      <td>25</td>\n",
       "      <td>1</td>\n",
       "    </tr>\n",
       "    <tr>\n",
       "      <th>4</th>\n",
       "      <td>26</td>\n",
       "      <td>1</td>\n",
       "      <td>2</td>\n",
       "      <td>49</td>\n",
       "      <td>53</td>\n",
       "      <td>0</td>\n",
       "      <td>1</td>\n",
       "      <td>48</td>\n",
       "      <td>0</td>\n",
       "      <td>10</td>\n",
       "      <td>2</td>\n",
       "    </tr>\n",
       "  </tbody>\n",
       "</table>\n",
       "</div>"
      ],
      "text/plain": [
       "   Age  Sex  ChestPainType  RestingBP  Cholesterol  FastingBS  RestingECG  \\\n",
       "0   12    1              1         41          147          0           1   \n",
       "1   21    0              2         55           40          0           1   \n",
       "2    9    1              1         31          141          0           2   \n",
       "3   20    0              0         39           72          0           1   \n",
       "4   26    1              2         49           53          0           1   \n",
       "\n",
       "   MaxHR  ExerciseAngina  Oldpeak  ST_Slope  \n",
       "0     98               0       10         2  \n",
       "1     82               0       20         1  \n",
       "2     25               0       10         2  \n",
       "3     34               1       25         1  \n",
       "4     48               0       10         2  "
      ]
     },
     "execution_count": 6,
     "metadata": {},
     "output_type": "execute_result"
    }
   ],
   "source": [
    "X = X.apply(LabelEncoder().fit_transform)\n",
    "X.head()"
   ]
  },
  {
   "cell_type": "markdown",
   "id": "27854de2",
   "metadata": {
    "papermill": {
     "duration": 0.009888,
     "end_time": "2024-01-18T20:39:30.171023",
     "exception": false,
     "start_time": "2024-01-18T20:39:30.161135",
     "status": "completed"
    },
    "tags": []
   },
   "source": [
    "### Scaling Data"
   ]
  },
  {
   "cell_type": "code",
   "execution_count": 7,
   "id": "27ed4805",
   "metadata": {
    "execution": {
     "iopub.execute_input": "2024-01-18T20:39:30.194738Z",
     "iopub.status.busy": "2024-01-18T20:39:30.194333Z",
     "iopub.status.idle": "2024-01-18T20:39:30.207335Z",
     "shell.execute_reply": "2024-01-18T20:39:30.206140Z"
    },
    "papermill": {
     "duration": 0.02883,
     "end_time": "2024-01-18T20:39:30.210181",
     "exception": false,
     "start_time": "2024-01-18T20:39:30.181351",
     "status": "completed"
    },
    "tags": []
   },
   "outputs": [
    {
     "data": {
      "text/plain": [
       "array([[-1.4331398 ,  0.51595242,  0.22903206, ..., -0.8235563 ,\n",
       "        -0.87246276,  1.05211381],\n",
       "       [-0.47848359, -1.93816322,  1.27505906, ..., -0.8235563 ,\n",
       "         0.12037326, -0.59607813],\n",
       "       [-1.75135854,  0.51595242,  0.22903206, ..., -0.8235563 ,\n",
       "        -0.87246276,  1.05211381],\n",
       "       ...,\n",
       "       [ 0.37009972,  0.51595242, -0.81699495, ...,  1.21424608,\n",
       "         0.31894046, -0.59607813],\n",
       "       [ 0.37009972, -1.93816322,  0.22903206, ..., -0.8235563 ,\n",
       "        -0.87246276, -0.59607813],\n",
       "       [-1.64528563,  0.51595242,  1.27505906, ..., -0.8235563 ,\n",
       "        -0.87246276,  1.05211381]])"
      ]
     },
     "execution_count": 7,
     "metadata": {},
     "output_type": "execute_result"
    }
   ],
   "source": [
    "StandardScalerModel = StandardScaler()\n",
    "X = StandardScalerModel.fit_transform(X)\n",
    "X"
   ]
  },
  {
   "cell_type": "markdown",
   "id": "2803ba78",
   "metadata": {
    "papermill": {
     "duration": 0.010219,
     "end_time": "2024-01-18T20:39:30.231218",
     "exception": false,
     "start_time": "2024-01-18T20:39:30.220999",
     "status": "completed"
    },
    "tags": []
   },
   "source": [
    "### Split Data into train and test"
   ]
  },
  {
   "cell_type": "code",
   "execution_count": 8,
   "id": "4ed28321",
   "metadata": {
    "execution": {
     "iopub.execute_input": "2024-01-18T20:39:30.255167Z",
     "iopub.status.busy": "2024-01-18T20:39:30.254711Z",
     "iopub.status.idle": "2024-01-18T20:39:30.262199Z",
     "shell.execute_reply": "2024-01-18T20:39:30.261124Z"
    },
    "papermill": {
     "duration": 0.022756,
     "end_time": "2024-01-18T20:39:30.265239",
     "exception": false,
     "start_time": "2024-01-18T20:39:30.242483",
     "status": "completed"
    },
    "tags": []
   },
   "outputs": [],
   "source": [
    "X_train, X_test, y_train, y_test = train_test_split(X, y, test_size=0.2, random_state=0, shuffle=True)"
   ]
  },
  {
   "cell_type": "code",
   "execution_count": 9,
   "id": "cb3b7eac",
   "metadata": {
    "execution": {
     "iopub.execute_input": "2024-01-18T20:39:30.292811Z",
     "iopub.status.busy": "2024-01-18T20:39:30.292401Z",
     "iopub.status.idle": "2024-01-18T20:39:30.300464Z",
     "shell.execute_reply": "2024-01-18T20:39:30.299117Z"
    },
    "papermill": {
     "duration": 0.024737,
     "end_time": "2024-01-18T20:39:30.303730",
     "exception": false,
     "start_time": "2024-01-18T20:39:30.278993",
     "status": "completed"
    },
    "tags": []
   },
   "outputs": [
    {
     "data": {
      "text/plain": [
       "(734, 11)"
      ]
     },
     "execution_count": 9,
     "metadata": {},
     "output_type": "execute_result"
    }
   ],
   "source": [
    "X_train.shape"
   ]
  },
  {
   "cell_type": "code",
   "execution_count": 10,
   "id": "a0738aa8",
   "metadata": {
    "execution": {
     "iopub.execute_input": "2024-01-18T20:39:30.328216Z",
     "iopub.status.busy": "2024-01-18T20:39:30.327769Z",
     "iopub.status.idle": "2024-01-18T20:39:30.335516Z",
     "shell.execute_reply": "2024-01-18T20:39:30.334237Z"
    },
    "papermill": {
     "duration": 0.024218,
     "end_time": "2024-01-18T20:39:30.338725",
     "exception": false,
     "start_time": "2024-01-18T20:39:30.314507",
     "status": "completed"
    },
    "tags": []
   },
   "outputs": [
    {
     "data": {
      "text/plain": [
       "(184, 11)"
      ]
     },
     "execution_count": 10,
     "metadata": {},
     "output_type": "execute_result"
    }
   ],
   "source": [
    "X_test.shape"
   ]
  },
  {
   "cell_type": "markdown",
   "id": "52124deb",
   "metadata": {
    "papermill": {
     "duration": 0.01108,
     "end_time": "2024-01-18T20:39:30.361540",
     "exception": false,
     "start_time": "2024-01-18T20:39:30.350460",
     "status": "completed"
    },
    "tags": []
   },
   "source": [
    "# Create Model"
   ]
  },
  {
   "cell_type": "markdown",
   "id": "4e1ff6f7",
   "metadata": {
    "papermill": {
     "duration": 0.011739,
     "end_time": "2024-01-18T20:39:30.384488",
     "exception": false,
     "start_time": "2024-01-18T20:39:30.372749",
     "status": "completed"
    },
    "tags": []
   },
   "source": [
    "[link: https://epistasislab.github.io/tpot/api/](http://https://epistasislab.github.io/tpot/api/)"
   ]
  },
  {
   "cell_type": "code",
   "execution_count": 11,
   "id": "203fd88d",
   "metadata": {
    "execution": {
     "iopub.execute_input": "2024-01-18T20:39:30.408381Z",
     "iopub.status.busy": "2024-01-18T20:39:30.407945Z",
     "iopub.status.idle": "2024-01-18T21:01:09.914302Z",
     "shell.execute_reply": "2024-01-18T21:01:09.912998Z"
    },
    "papermill": {
     "duration": 1299.521362,
     "end_time": "2024-01-18T21:01:09.916898",
     "exception": false,
     "start_time": "2024-01-18T20:39:30.395536",
     "status": "completed"
    },
    "tags": []
   },
   "outputs": [
    {
     "data": {
      "application/vnd.jupyter.widget-view+json": {
       "model_id": "3a5a6714c3784b6b8a373f06a84321f3",
       "version_major": 2,
       "version_minor": 0
      },
      "text/plain": [
       "Optimization Progress:   0%|          | 0/1100 [00:00<?, ?pipeline/s]"
      ]
     },
     "metadata": {},
     "output_type": "display_data"
    },
    {
     "name": "stdout",
     "output_type": "stream",
     "text": [
      "\n",
      "Generation 1 - Current best internal CV score: 0.8800857329233063\n",
      "\n",
      "Generation 2 - Current best internal CV score: 0.8800857329233063\n",
      "\n",
      "Generation 3 - Current best internal CV score: 0.8814649147330165\n",
      "\n",
      "Generation 4 - Current best internal CV score: 0.8828254589507036\n",
      "\n",
      "Generation 5 - Current best internal CV score: 0.8828254589507036\n",
      "\n",
      "Generation 6 - Current best internal CV score: 0.885537228590066\n",
      "\n",
      "Generation 7 - Current best internal CV score: 0.885537228590066\n",
      "\n",
      "Generation 8 - Current best internal CV score: 0.885537228590066\n",
      "\n",
      "Generation 9 - Current best internal CV score: 0.8896188612431274\n",
      "\n",
      "Generation 10 - Current best internal CV score: 0.8896188612431274\n",
      "\n",
      "Best pipeline: RandomForestClassifier(MinMaxScaler(StandardScaler(input_matrix)), bootstrap=False, criterion=gini, max_features=0.2, min_samples_leaf=3, min_samples_split=11, n_estimators=100)\n"
     ]
    },
    {
     "data": {
      "text/html": [
       "<style>#sk-container-id-1 {color: black;background-color: white;}#sk-container-id-1 pre{padding: 0;}#sk-container-id-1 div.sk-toggleable {background-color: white;}#sk-container-id-1 label.sk-toggleable__label {cursor: pointer;display: block;width: 100%;margin-bottom: 0;padding: 0.3em;box-sizing: border-box;text-align: center;}#sk-container-id-1 label.sk-toggleable__label-arrow:before {content: \"▸\";float: left;margin-right: 0.25em;color: #696969;}#sk-container-id-1 label.sk-toggleable__label-arrow:hover:before {color: black;}#sk-container-id-1 div.sk-estimator:hover label.sk-toggleable__label-arrow:before {color: black;}#sk-container-id-1 div.sk-toggleable__content {max-height: 0;max-width: 0;overflow: hidden;text-align: left;background-color: #f0f8ff;}#sk-container-id-1 div.sk-toggleable__content pre {margin: 0.2em;color: black;border-radius: 0.25em;background-color: #f0f8ff;}#sk-container-id-1 input.sk-toggleable__control:checked~div.sk-toggleable__content {max-height: 200px;max-width: 100%;overflow: auto;}#sk-container-id-1 input.sk-toggleable__control:checked~label.sk-toggleable__label-arrow:before {content: \"▾\";}#sk-container-id-1 div.sk-estimator input.sk-toggleable__control:checked~label.sk-toggleable__label {background-color: #d4ebff;}#sk-container-id-1 div.sk-label input.sk-toggleable__control:checked~label.sk-toggleable__label {background-color: #d4ebff;}#sk-container-id-1 input.sk-hidden--visually {border: 0;clip: rect(1px 1px 1px 1px);clip: rect(1px, 1px, 1px, 1px);height: 1px;margin: -1px;overflow: hidden;padding: 0;position: absolute;width: 1px;}#sk-container-id-1 div.sk-estimator {font-family: monospace;background-color: #f0f8ff;border: 1px dotted black;border-radius: 0.25em;box-sizing: border-box;margin-bottom: 0.5em;}#sk-container-id-1 div.sk-estimator:hover {background-color: #d4ebff;}#sk-container-id-1 div.sk-parallel-item::after {content: \"\";width: 100%;border-bottom: 1px solid gray;flex-grow: 1;}#sk-container-id-1 div.sk-label:hover label.sk-toggleable__label {background-color: #d4ebff;}#sk-container-id-1 div.sk-serial::before {content: \"\";position: absolute;border-left: 1px solid gray;box-sizing: border-box;top: 0;bottom: 0;left: 50%;z-index: 0;}#sk-container-id-1 div.sk-serial {display: flex;flex-direction: column;align-items: center;background-color: white;padding-right: 0.2em;padding-left: 0.2em;position: relative;}#sk-container-id-1 div.sk-item {position: relative;z-index: 1;}#sk-container-id-1 div.sk-parallel {display: flex;align-items: stretch;justify-content: center;background-color: white;position: relative;}#sk-container-id-1 div.sk-item::before, #sk-container-id-1 div.sk-parallel-item::before {content: \"\";position: absolute;border-left: 1px solid gray;box-sizing: border-box;top: 0;bottom: 0;left: 50%;z-index: -1;}#sk-container-id-1 div.sk-parallel-item {display: flex;flex-direction: column;z-index: 1;position: relative;background-color: white;}#sk-container-id-1 div.sk-parallel-item:first-child::after {align-self: flex-end;width: 50%;}#sk-container-id-1 div.sk-parallel-item:last-child::after {align-self: flex-start;width: 50%;}#sk-container-id-1 div.sk-parallel-item:only-child::after {width: 0;}#sk-container-id-1 div.sk-dashed-wrapped {border: 1px dashed gray;margin: 0 0.4em 0.5em 0.4em;box-sizing: border-box;padding-bottom: 0.4em;background-color: white;}#sk-container-id-1 div.sk-label label {font-family: monospace;font-weight: bold;display: inline-block;line-height: 1.2em;}#sk-container-id-1 div.sk-label-container {text-align: center;}#sk-container-id-1 div.sk-container {/* jupyter's `normalize.less` sets `[hidden] { display: none; }` but bootstrap.min.css set `[hidden] { display: none !important; }` so we also need the `!important` here to be able to override the default hidden behavior on the sphinx rendered scikit-learn.org. See: https://github.com/scikit-learn/scikit-learn/issues/21755 */display: inline-block !important;position: relative;}#sk-container-id-1 div.sk-text-repr-fallback {display: none;}</style><div id=\"sk-container-id-1\" class=\"sk-top-container\"><div class=\"sk-text-repr-fallback\"><pre>TPOTClassifier(generations=10, verbosity=2)</pre><b>In a Jupyter environment, please rerun this cell to show the HTML representation or trust the notebook. <br />On GitHub, the HTML representation is unable to render, please try loading this page with nbviewer.org.</b></div><div class=\"sk-container\" hidden><div class=\"sk-item\"><div class=\"sk-estimator sk-toggleable\"><input class=\"sk-toggleable__control sk-hidden--visually\" id=\"sk-estimator-id-1\" type=\"checkbox\" checked><label for=\"sk-estimator-id-1\" class=\"sk-toggleable__label sk-toggleable__label-arrow\">TPOTClassifier</label><div class=\"sk-toggleable__content\"><pre>TPOTClassifier(generations=10, verbosity=2)</pre></div></div></div></div></div>"
      ],
      "text/plain": [
       "TPOTClassifier(generations=10, verbosity=2)"
      ]
     },
     "execution_count": 11,
     "metadata": {},
     "output_type": "execute_result"
    }
   ],
   "source": [
    "tpot = TPOTClassifier(generations=10, verbosity=2)\n",
    "tpot.fit(X_train, y_train)"
   ]
  },
  {
   "cell_type": "code",
   "execution_count": 12,
   "id": "774a49ae",
   "metadata": {
    "execution": {
     "iopub.execute_input": "2024-01-18T21:01:09.944258Z",
     "iopub.status.busy": "2024-01-18T21:01:09.943529Z",
     "iopub.status.idle": "2024-01-18T21:01:09.968990Z",
     "shell.execute_reply": "2024-01-18T21:01:09.967823Z"
    },
    "papermill": {
     "duration": 0.042475,
     "end_time": "2024-01-18T21:01:09.971843",
     "exception": false,
     "start_time": "2024-01-18T21:01:09.929368",
     "status": "completed"
    },
    "tags": []
   },
   "outputs": [
    {
     "name": "stdout",
     "output_type": "stream",
     "text": [
      "0.9509536784741145\n"
     ]
    }
   ],
   "source": [
    "print(tpot.score(X_train, y_train))"
   ]
  },
  {
   "cell_type": "code",
   "execution_count": 13,
   "id": "628575e3",
   "metadata": {
    "execution": {
     "iopub.execute_input": "2024-01-18T21:01:09.999332Z",
     "iopub.status.busy": "2024-01-18T21:01:09.998618Z",
     "iopub.status.idle": "2024-01-18T21:01:10.016924Z",
     "shell.execute_reply": "2024-01-18T21:01:10.015758Z"
    },
    "papermill": {
     "duration": 0.035844,
     "end_time": "2024-01-18T21:01:10.020088",
     "exception": false,
     "start_time": "2024-01-18T21:01:09.984244",
     "status": "completed"
    },
    "tags": []
   },
   "outputs": [
    {
     "name": "stdout",
     "output_type": "stream",
     "text": [
      "0.8532608695652174\n"
     ]
    }
   ],
   "source": [
    "print(tpot.score(X_test, y_test))"
   ]
  }
 ],
 "metadata": {
  "kaggle": {
   "accelerator": "none",
   "dataSources": [
    {
     "datasetId": 1582403,
     "sourceId": 2603715,
     "sourceType": "datasetVersion"
    }
   ],
   "dockerImageVersionId": 30635,
   "isGpuEnabled": false,
   "isInternetEnabled": true,
   "language": "python",
   "sourceType": "notebook"
  },
  "kernelspec": {
   "display_name": "Python 3",
   "language": "python",
   "name": "python3"
  },
  "language_info": {
   "codemirror_mode": {
    "name": "ipython",
    "version": 3
   },
   "file_extension": ".py",
   "mimetype": "text/x-python",
   "name": "python",
   "nbconvert_exporter": "python",
   "pygments_lexer": "ipython3",
   "version": "3.10.12"
  },
  "papermill": {
   "default_parameters": {},
   "duration": 1329.474824,
   "end_time": "2024-01-18T21:01:11.362437",
   "environment_variables": {},
   "exception": null,
   "input_path": "__notebook__.ipynb",
   "output_path": "__notebook__.ipynb",
   "parameters": {},
   "start_time": "2024-01-18T20:39:01.887613",
   "version": "2.4.0"
  },
  "widgets": {
   "application/vnd.jupyter.widget-state+json": {
    "state": {
     "1066e8e4787c428a9b4a281cf1445b06": {
      "model_module": "@jupyter-widgets/controls",
      "model_module_version": "1.5.0",
      "model_name": "HTMLModel",
      "state": {
       "_dom_classes": [],
       "_model_module": "@jupyter-widgets/controls",
       "_model_module_version": "1.5.0",
       "_model_name": "HTMLModel",
       "_view_count": null,
       "_view_module": "@jupyter-widgets/controls",
       "_view_module_version": "1.5.0",
       "_view_name": "HTMLView",
       "description": "",
       "description_tooltip": null,
       "layout": "IPY_MODEL_dca39bad5e93424288e22b487bd9bd6b",
       "placeholder": "​",
       "style": "IPY_MODEL_42a7a0bec1c9446dbc06d66242892dfd",
       "value": " 1100/1100 [21:29&lt;00:00,  1.14pipeline/s]"
      }
     },
     "13493ce548844f369b13b7579abba2f5": {
      "model_module": "@jupyter-widgets/controls",
      "model_module_version": "1.5.0",
      "model_name": "FloatProgressModel",
      "state": {
       "_dom_classes": [],
       "_model_module": "@jupyter-widgets/controls",
       "_model_module_version": "1.5.0",
       "_model_name": "FloatProgressModel",
       "_view_count": null,
       "_view_module": "@jupyter-widgets/controls",
       "_view_module_version": "1.5.0",
       "_view_name": "ProgressView",
       "bar_style": "",
       "description": "",
       "description_tooltip": null,
       "layout": "IPY_MODEL_80da288d337846d19a62b628a3421818",
       "max": 1100.0,
       "min": 0.0,
       "orientation": "horizontal",
       "style": "IPY_MODEL_67df3fe8713e419dbeb71ebb3d498642",
       "value": 1100.0
      }
     },
     "13cb8b95a54f430a9c0c8a3031e7ed07": {
      "model_module": "@jupyter-widgets/base",
      "model_module_version": "1.2.0",
      "model_name": "LayoutModel",
      "state": {
       "_model_module": "@jupyter-widgets/base",
       "_model_module_version": "1.2.0",
       "_model_name": "LayoutModel",
       "_view_count": null,
       "_view_module": "@jupyter-widgets/base",
       "_view_module_version": "1.2.0",
       "_view_name": "LayoutView",
       "align_content": null,
       "align_items": null,
       "align_self": null,
       "border": null,
       "bottom": null,
       "display": null,
       "flex": null,
       "flex_flow": null,
       "grid_area": null,
       "grid_auto_columns": null,
       "grid_auto_flow": null,
       "grid_auto_rows": null,
       "grid_column": null,
       "grid_gap": null,
       "grid_row": null,
       "grid_template_areas": null,
       "grid_template_columns": null,
       "grid_template_rows": null,
       "height": null,
       "justify_content": null,
       "justify_items": null,
       "left": null,
       "margin": null,
       "max_height": null,
       "max_width": null,
       "min_height": null,
       "min_width": null,
       "object_fit": null,
       "object_position": null,
       "order": null,
       "overflow": null,
       "overflow_x": null,
       "overflow_y": null,
       "padding": null,
       "right": null,
       "top": null,
       "visibility": "hidden",
       "width": null
      }
     },
     "1ff0d246611d49f799adb71fe51c38ba": {
      "model_module": "@jupyter-widgets/controls",
      "model_module_version": "1.5.0",
      "model_name": "DescriptionStyleModel",
      "state": {
       "_model_module": "@jupyter-widgets/controls",
       "_model_module_version": "1.5.0",
       "_model_name": "DescriptionStyleModel",
       "_view_count": null,
       "_view_module": "@jupyter-widgets/base",
       "_view_module_version": "1.2.0",
       "_view_name": "StyleView",
       "description_width": ""
      }
     },
     "3a5a6714c3784b6b8a373f06a84321f3": {
      "model_module": "@jupyter-widgets/controls",
      "model_module_version": "1.5.0",
      "model_name": "HBoxModel",
      "state": {
       "_dom_classes": [],
       "_model_module": "@jupyter-widgets/controls",
       "_model_module_version": "1.5.0",
       "_model_name": "HBoxModel",
       "_view_count": null,
       "_view_module": "@jupyter-widgets/controls",
       "_view_module_version": "1.5.0",
       "_view_name": "HBoxView",
       "box_style": "",
       "children": [
        "IPY_MODEL_9de168bf236a46658df15770271fb192",
        "IPY_MODEL_13493ce548844f369b13b7579abba2f5",
        "IPY_MODEL_1066e8e4787c428a9b4a281cf1445b06"
       ],
       "layout": "IPY_MODEL_13cb8b95a54f430a9c0c8a3031e7ed07"
      }
     },
     "42a7a0bec1c9446dbc06d66242892dfd": {
      "model_module": "@jupyter-widgets/controls",
      "model_module_version": "1.5.0",
      "model_name": "DescriptionStyleModel",
      "state": {
       "_model_module": "@jupyter-widgets/controls",
       "_model_module_version": "1.5.0",
       "_model_name": "DescriptionStyleModel",
       "_view_count": null,
       "_view_module": "@jupyter-widgets/base",
       "_view_module_version": "1.2.0",
       "_view_name": "StyleView",
       "description_width": ""
      }
     },
     "67df3fe8713e419dbeb71ebb3d498642": {
      "model_module": "@jupyter-widgets/controls",
      "model_module_version": "1.5.0",
      "model_name": "ProgressStyleModel",
      "state": {
       "_model_module": "@jupyter-widgets/controls",
       "_model_module_version": "1.5.0",
       "_model_name": "ProgressStyleModel",
       "_view_count": null,
       "_view_module": "@jupyter-widgets/base",
       "_view_module_version": "1.2.0",
       "_view_name": "StyleView",
       "bar_color": null,
       "description_width": ""
      }
     },
     "80da288d337846d19a62b628a3421818": {
      "model_module": "@jupyter-widgets/base",
      "model_module_version": "1.2.0",
      "model_name": "LayoutModel",
      "state": {
       "_model_module": "@jupyter-widgets/base",
       "_model_module_version": "1.2.0",
       "_model_name": "LayoutModel",
       "_view_count": null,
       "_view_module": "@jupyter-widgets/base",
       "_view_module_version": "1.2.0",
       "_view_name": "LayoutView",
       "align_content": null,
       "align_items": null,
       "align_self": null,
       "border": null,
       "bottom": null,
       "display": null,
       "flex": null,
       "flex_flow": null,
       "grid_area": null,
       "grid_auto_columns": null,
       "grid_auto_flow": null,
       "grid_auto_rows": null,
       "grid_column": null,
       "grid_gap": null,
       "grid_row": null,
       "grid_template_areas": null,
       "grid_template_columns": null,
       "grid_template_rows": null,
       "height": null,
       "justify_content": null,
       "justify_items": null,
       "left": null,
       "margin": null,
       "max_height": null,
       "max_width": null,
       "min_height": null,
       "min_width": null,
       "object_fit": null,
       "object_position": null,
       "order": null,
       "overflow": null,
       "overflow_x": null,
       "overflow_y": null,
       "padding": null,
       "right": null,
       "top": null,
       "visibility": null,
       "width": null
      }
     },
     "9de168bf236a46658df15770271fb192": {
      "model_module": "@jupyter-widgets/controls",
      "model_module_version": "1.5.0",
      "model_name": "HTMLModel",
      "state": {
       "_dom_classes": [],
       "_model_module": "@jupyter-widgets/controls",
       "_model_module_version": "1.5.0",
       "_model_name": "HTMLModel",
       "_view_count": null,
       "_view_module": "@jupyter-widgets/controls",
       "_view_module_version": "1.5.0",
       "_view_name": "HTMLView",
       "description": "",
       "description_tooltip": null,
       "layout": "IPY_MODEL_b0f37050fec74f25a6d104a91e32f4d0",
       "placeholder": "​",
       "style": "IPY_MODEL_1ff0d246611d49f799adb71fe51c38ba",
       "value": "Optimization Progress: 100%"
      }
     },
     "b0f37050fec74f25a6d104a91e32f4d0": {
      "model_module": "@jupyter-widgets/base",
      "model_module_version": "1.2.0",
      "model_name": "LayoutModel",
      "state": {
       "_model_module": "@jupyter-widgets/base",
       "_model_module_version": "1.2.0",
       "_model_name": "LayoutModel",
       "_view_count": null,
       "_view_module": "@jupyter-widgets/base",
       "_view_module_version": "1.2.0",
       "_view_name": "LayoutView",
       "align_content": null,
       "align_items": null,
       "align_self": null,
       "border": null,
       "bottom": null,
       "display": null,
       "flex": null,
       "flex_flow": null,
       "grid_area": null,
       "grid_auto_columns": null,
       "grid_auto_flow": null,
       "grid_auto_rows": null,
       "grid_column": null,
       "grid_gap": null,
       "grid_row": null,
       "grid_template_areas": null,
       "grid_template_columns": null,
       "grid_template_rows": null,
       "height": null,
       "justify_content": null,
       "justify_items": null,
       "left": null,
       "margin": null,
       "max_height": null,
       "max_width": null,
       "min_height": null,
       "min_width": null,
       "object_fit": null,
       "object_position": null,
       "order": null,
       "overflow": null,
       "overflow_x": null,
       "overflow_y": null,
       "padding": null,
       "right": null,
       "top": null,
       "visibility": null,
       "width": null
      }
     },
     "dca39bad5e93424288e22b487bd9bd6b": {
      "model_module": "@jupyter-widgets/base",
      "model_module_version": "1.2.0",
      "model_name": "LayoutModel",
      "state": {
       "_model_module": "@jupyter-widgets/base",
       "_model_module_version": "1.2.0",
       "_model_name": "LayoutModel",
       "_view_count": null,
       "_view_module": "@jupyter-widgets/base",
       "_view_module_version": "1.2.0",
       "_view_name": "LayoutView",
       "align_content": null,
       "align_items": null,
       "align_self": null,
       "border": null,
       "bottom": null,
       "display": null,
       "flex": null,
       "flex_flow": null,
       "grid_area": null,
       "grid_auto_columns": null,
       "grid_auto_flow": null,
       "grid_auto_rows": null,
       "grid_column": null,
       "grid_gap": null,
       "grid_row": null,
       "grid_template_areas": null,
       "grid_template_columns": null,
       "grid_template_rows": null,
       "height": null,
       "justify_content": null,
       "justify_items": null,
       "left": null,
       "margin": null,
       "max_height": null,
       "max_width": null,
       "min_height": null,
       "min_width": null,
       "object_fit": null,
       "object_position": null,
       "order": null,
       "overflow": null,
       "overflow_x": null,
       "overflow_y": null,
       "padding": null,
       "right": null,
       "top": null,
       "visibility": null,
       "width": null
      }
     }
    },
    "version_major": 2,
    "version_minor": 0
   }
  }
 },
 "nbformat": 4,
 "nbformat_minor": 5
}
