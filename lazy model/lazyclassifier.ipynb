{
 "cells": [
  {
   "cell_type": "markdown",
   "id": "bfa120b2",
   "metadata": {
    "papermill": {
     "duration": 0.005327,
     "end_time": "2024-01-18T19:30:05.828907",
     "exception": false,
     "start_time": "2024-01-18T19:30:05.823580",
     "status": "completed"
    },
    "tags": []
   },
   "source": [
    "# Import Needed Libraries"
   ]
  },
  {
   "cell_type": "markdown",
   "id": "87bf92ae",
   "metadata": {
    "papermill": {
     "duration": 0.004039,
     "end_time": "2024-01-18T19:30:05.837437",
     "exception": false,
     "start_time": "2024-01-18T19:30:05.833398",
     "status": "completed"
    },
    "tags": []
   },
   "source": [
    "##### LazyPredict is a Python library that helps you to partially automate the process of selecting the best algorithm to train your dataset. By supplying your data, LazyPredict would use more than 60 ML algorithms to train a model. And the end result would be presented to you"
   ]
  },
  {
   "cell_type": "code",
   "execution_count": 1,
   "id": "0729e3cd",
   "metadata": {
    "_cell_guid": "b1076dfc-b9ad-4769-8c92-a6c4dae69d19",
    "_uuid": "8f2839f25d086af736a60e9eeb907d3b93b6e0e5",
    "execution": {
     "iopub.execute_input": "2024-01-18T19:30:05.847585Z",
     "iopub.status.busy": "2024-01-18T19:30:05.847165Z",
     "iopub.status.idle": "2024-01-18T19:30:17.702030Z",
     "shell.execute_reply": "2024-01-18T19:30:17.701049Z"
    },
    "papermill": {
     "duration": 11.862954,
     "end_time": "2024-01-18T19:30:17.704794",
     "exception": false,
     "start_time": "2024-01-18T19:30:05.841840",
     "status": "completed"
    },
    "tags": []
   },
   "outputs": [
    {
     "name": "stdout",
     "output_type": "stream",
     "text": [
      "Collecting lazypredict\r\n",
      "  Downloading lazypredict-0.2.12-py2.py3-none-any.whl (12 kB)\r\n",
      "Requirement already satisfied: click in /opt/conda/lib/python3.10/site-packages (from lazypredict) (8.1.7)\r\n",
      "Requirement already satisfied: scikit-learn in /opt/conda/lib/python3.10/site-packages (from lazypredict) (1.2.2)\r\n",
      "Requirement already satisfied: pandas in /opt/conda/lib/python3.10/site-packages (from lazypredict) (2.0.3)\r\n",
      "Requirement already satisfied: tqdm in /opt/conda/lib/python3.10/site-packages (from lazypredict) (4.66.1)\r\n",
      "Requirement already satisfied: joblib in /opt/conda/lib/python3.10/site-packages (from lazypredict) (1.3.2)\r\n",
      "Requirement already satisfied: lightgbm in /opt/conda/lib/python3.10/site-packages (from lazypredict) (3.3.2)\r\n",
      "Requirement already satisfied: xgboost in /opt/conda/lib/python3.10/site-packages (from lazypredict) (2.0.3)\r\n",
      "Requirement already satisfied: wheel in /opt/conda/lib/python3.10/site-packages (from lightgbm->lazypredict) (0.41.2)\r\n",
      "Requirement already satisfied: numpy in /opt/conda/lib/python3.10/site-packages (from lightgbm->lazypredict) (1.24.3)\r\n",
      "Requirement already satisfied: scipy in /opt/conda/lib/python3.10/site-packages (from lightgbm->lazypredict) (1.11.4)\r\n",
      "Requirement already satisfied: threadpoolctl>=2.0.0 in /opt/conda/lib/python3.10/site-packages (from scikit-learn->lazypredict) (3.2.0)\r\n",
      "Requirement already satisfied: python-dateutil>=2.8.2 in /opt/conda/lib/python3.10/site-packages (from pandas->lazypredict) (2.8.2)\r\n",
      "Requirement already satisfied: pytz>=2020.1 in /opt/conda/lib/python3.10/site-packages (from pandas->lazypredict) (2023.3)\r\n",
      "Requirement already satisfied: tzdata>=2022.1 in /opt/conda/lib/python3.10/site-packages (from pandas->lazypredict) (2023.3)\r\n",
      "Requirement already satisfied: six>=1.5 in /opt/conda/lib/python3.10/site-packages (from python-dateutil>=2.8.2->pandas->lazypredict) (1.16.0)\r\n",
      "Installing collected packages: lazypredict\r\n",
      "Successfully installed lazypredict-0.2.12\r\n"
     ]
    }
   ],
   "source": [
    "!pip install lazypredict"
   ]
  },
  {
   "cell_type": "code",
   "execution_count": 2,
   "id": "4f055668",
   "metadata": {
    "execution": {
     "iopub.execute_input": "2024-01-18T19:30:17.717216Z",
     "iopub.status.busy": "2024-01-18T19:30:17.716822Z",
     "iopub.status.idle": "2024-01-18T19:30:22.026683Z",
     "shell.execute_reply": "2024-01-18T19:30:22.025341Z"
    },
    "papermill": {
     "duration": 4.319244,
     "end_time": "2024-01-18T19:30:22.029197",
     "exception": false,
     "start_time": "2024-01-18T19:30:17.709953",
     "status": "completed"
    },
    "tags": []
   },
   "outputs": [],
   "source": [
    "import numpy as np\n",
    "import pandas as pd\n",
    "import matplotlib.pyplot as plt\n",
    "\n",
    "from sklearn.preprocessing import LabelEncoder\n",
    "from sklearn.preprocessing import StandardScaler\n",
    "from sklearn.model_selection import train_test_split\n",
    "\n",
    "from lazypredict.Supervised import LazyClassifier"
   ]
  },
  {
   "cell_type": "markdown",
   "id": "0038ef0c",
   "metadata": {
    "papermill": {
     "duration": 0.004564,
     "end_time": "2024-01-18T19:30:22.038836",
     "exception": false,
     "start_time": "2024-01-18T19:30:22.034272",
     "status": "completed"
    },
    "tags": []
   },
   "source": [
    "# EDA"
   ]
  },
  {
   "cell_type": "code",
   "execution_count": 3,
   "id": "dcdf4931",
   "metadata": {
    "execution": {
     "iopub.execute_input": "2024-01-18T19:30:22.049955Z",
     "iopub.status.busy": "2024-01-18T19:30:22.049591Z",
     "iopub.status.idle": "2024-01-18T19:30:22.093203Z",
     "shell.execute_reply": "2024-01-18T19:30:22.092200Z"
    },
    "papermill": {
     "duration": 0.051551,
     "end_time": "2024-01-18T19:30:22.095075",
     "exception": false,
     "start_time": "2024-01-18T19:30:22.043524",
     "status": "completed"
    },
    "tags": []
   },
   "outputs": [
    {
     "data": {
      "text/html": [
       "<div>\n",
       "<style scoped>\n",
       "    .dataframe tbody tr th:only-of-type {\n",
       "        vertical-align: middle;\n",
       "    }\n",
       "\n",
       "    .dataframe tbody tr th {\n",
       "        vertical-align: top;\n",
       "    }\n",
       "\n",
       "    .dataframe thead th {\n",
       "        text-align: right;\n",
       "    }\n",
       "</style>\n",
       "<table border=\"1\" class=\"dataframe\">\n",
       "  <thead>\n",
       "    <tr style=\"text-align: right;\">\n",
       "      <th></th>\n",
       "      <th>Age</th>\n",
       "      <th>Sex</th>\n",
       "      <th>ChestPainType</th>\n",
       "      <th>RestingBP</th>\n",
       "      <th>Cholesterol</th>\n",
       "      <th>FastingBS</th>\n",
       "      <th>RestingECG</th>\n",
       "      <th>MaxHR</th>\n",
       "      <th>ExerciseAngina</th>\n",
       "      <th>Oldpeak</th>\n",
       "      <th>ST_Slope</th>\n",
       "      <th>HeartDisease</th>\n",
       "    </tr>\n",
       "  </thead>\n",
       "  <tbody>\n",
       "    <tr>\n",
       "      <th>0</th>\n",
       "      <td>40</td>\n",
       "      <td>M</td>\n",
       "      <td>ATA</td>\n",
       "      <td>140</td>\n",
       "      <td>289</td>\n",
       "      <td>0</td>\n",
       "      <td>Normal</td>\n",
       "      <td>172</td>\n",
       "      <td>N</td>\n",
       "      <td>0.00</td>\n",
       "      <td>Up</td>\n",
       "      <td>0</td>\n",
       "    </tr>\n",
       "    <tr>\n",
       "      <th>1</th>\n",
       "      <td>49</td>\n",
       "      <td>F</td>\n",
       "      <td>NAP</td>\n",
       "      <td>160</td>\n",
       "      <td>180</td>\n",
       "      <td>0</td>\n",
       "      <td>Normal</td>\n",
       "      <td>156</td>\n",
       "      <td>N</td>\n",
       "      <td>1.00</td>\n",
       "      <td>Flat</td>\n",
       "      <td>1</td>\n",
       "    </tr>\n",
       "    <tr>\n",
       "      <th>2</th>\n",
       "      <td>37</td>\n",
       "      <td>M</td>\n",
       "      <td>ATA</td>\n",
       "      <td>130</td>\n",
       "      <td>283</td>\n",
       "      <td>0</td>\n",
       "      <td>ST</td>\n",
       "      <td>98</td>\n",
       "      <td>N</td>\n",
       "      <td>0.00</td>\n",
       "      <td>Up</td>\n",
       "      <td>0</td>\n",
       "    </tr>\n",
       "    <tr>\n",
       "      <th>3</th>\n",
       "      <td>48</td>\n",
       "      <td>F</td>\n",
       "      <td>ASY</td>\n",
       "      <td>138</td>\n",
       "      <td>214</td>\n",
       "      <td>0</td>\n",
       "      <td>Normal</td>\n",
       "      <td>108</td>\n",
       "      <td>Y</td>\n",
       "      <td>1.50</td>\n",
       "      <td>Flat</td>\n",
       "      <td>1</td>\n",
       "    </tr>\n",
       "    <tr>\n",
       "      <th>4</th>\n",
       "      <td>54</td>\n",
       "      <td>M</td>\n",
       "      <td>NAP</td>\n",
       "      <td>150</td>\n",
       "      <td>195</td>\n",
       "      <td>0</td>\n",
       "      <td>Normal</td>\n",
       "      <td>122</td>\n",
       "      <td>N</td>\n",
       "      <td>0.00</td>\n",
       "      <td>Up</td>\n",
       "      <td>0</td>\n",
       "    </tr>\n",
       "  </tbody>\n",
       "</table>\n",
       "</div>"
      ],
      "text/plain": [
       "   Age Sex ChestPainType  RestingBP  Cholesterol  FastingBS RestingECG  MaxHR  \\\n",
       "0   40   M           ATA        140          289          0     Normal    172   \n",
       "1   49   F           NAP        160          180          0     Normal    156   \n",
       "2   37   M           ATA        130          283          0         ST     98   \n",
       "3   48   F           ASY        138          214          0     Normal    108   \n",
       "4   54   M           NAP        150          195          0     Normal    122   \n",
       "\n",
       "  ExerciseAngina  Oldpeak ST_Slope  HeartDisease  \n",
       "0              N     0.00       Up             0  \n",
       "1              N     1.00     Flat             1  \n",
       "2              N     0.00       Up             0  \n",
       "3              Y     1.50     Flat             1  \n",
       "4              N     0.00       Up             0  "
      ]
     },
     "execution_count": 3,
     "metadata": {},
     "output_type": "execute_result"
    }
   ],
   "source": [
    "df = pd.read_csv('/kaggle/input/heart-failure-prediction/heart.csv')\n",
    "df.head()"
   ]
  },
  {
   "cell_type": "markdown",
   "id": "292cbcb4",
   "metadata": {
    "papermill": {
     "duration": 0.004516,
     "end_time": "2024-01-18T19:30:22.105109",
     "exception": false,
     "start_time": "2024-01-18T19:30:22.100593",
     "status": "completed"
    },
    "tags": []
   },
   "source": [
    "# Preprocessing"
   ]
  },
  {
   "cell_type": "markdown",
   "id": "f5d05516",
   "metadata": {
    "papermill": {
     "duration": 0.004595,
     "end_time": "2024-01-18T19:30:22.114499",
     "exception": false,
     "start_time": "2024-01-18T19:30:22.109904",
     "status": "completed"
    },
    "tags": []
   },
   "source": [
    "### Define features X and Target y"
   ]
  },
  {
   "cell_type": "code",
   "execution_count": 4,
   "id": "3988f059",
   "metadata": {
    "execution": {
     "iopub.execute_input": "2024-01-18T19:30:22.126044Z",
     "iopub.status.busy": "2024-01-18T19:30:22.125556Z",
     "iopub.status.idle": "2024-01-18T19:30:22.146578Z",
     "shell.execute_reply": "2024-01-18T19:30:22.145721Z"
    },
    "papermill": {
     "duration": 0.028979,
     "end_time": "2024-01-18T19:30:22.148338",
     "exception": false,
     "start_time": "2024-01-18T19:30:22.119359",
     "status": "completed"
    },
    "tags": []
   },
   "outputs": [
    {
     "data": {
      "text/html": [
       "<div>\n",
       "<style scoped>\n",
       "    .dataframe tbody tr th:only-of-type {\n",
       "        vertical-align: middle;\n",
       "    }\n",
       "\n",
       "    .dataframe tbody tr th {\n",
       "        vertical-align: top;\n",
       "    }\n",
       "\n",
       "    .dataframe thead th {\n",
       "        text-align: right;\n",
       "    }\n",
       "</style>\n",
       "<table border=\"1\" class=\"dataframe\">\n",
       "  <thead>\n",
       "    <tr style=\"text-align: right;\">\n",
       "      <th></th>\n",
       "      <th>Age</th>\n",
       "      <th>Sex</th>\n",
       "      <th>ChestPainType</th>\n",
       "      <th>RestingBP</th>\n",
       "      <th>Cholesterol</th>\n",
       "      <th>FastingBS</th>\n",
       "      <th>RestingECG</th>\n",
       "      <th>MaxHR</th>\n",
       "      <th>ExerciseAngina</th>\n",
       "      <th>Oldpeak</th>\n",
       "      <th>ST_Slope</th>\n",
       "    </tr>\n",
       "  </thead>\n",
       "  <tbody>\n",
       "    <tr>\n",
       "      <th>0</th>\n",
       "      <td>40</td>\n",
       "      <td>M</td>\n",
       "      <td>ATA</td>\n",
       "      <td>140</td>\n",
       "      <td>289</td>\n",
       "      <td>0</td>\n",
       "      <td>Normal</td>\n",
       "      <td>172</td>\n",
       "      <td>N</td>\n",
       "      <td>0.00</td>\n",
       "      <td>Up</td>\n",
       "    </tr>\n",
       "    <tr>\n",
       "      <th>1</th>\n",
       "      <td>49</td>\n",
       "      <td>F</td>\n",
       "      <td>NAP</td>\n",
       "      <td>160</td>\n",
       "      <td>180</td>\n",
       "      <td>0</td>\n",
       "      <td>Normal</td>\n",
       "      <td>156</td>\n",
       "      <td>N</td>\n",
       "      <td>1.00</td>\n",
       "      <td>Flat</td>\n",
       "    </tr>\n",
       "    <tr>\n",
       "      <th>2</th>\n",
       "      <td>37</td>\n",
       "      <td>M</td>\n",
       "      <td>ATA</td>\n",
       "      <td>130</td>\n",
       "      <td>283</td>\n",
       "      <td>0</td>\n",
       "      <td>ST</td>\n",
       "      <td>98</td>\n",
       "      <td>N</td>\n",
       "      <td>0.00</td>\n",
       "      <td>Up</td>\n",
       "    </tr>\n",
       "    <tr>\n",
       "      <th>3</th>\n",
       "      <td>48</td>\n",
       "      <td>F</td>\n",
       "      <td>ASY</td>\n",
       "      <td>138</td>\n",
       "      <td>214</td>\n",
       "      <td>0</td>\n",
       "      <td>Normal</td>\n",
       "      <td>108</td>\n",
       "      <td>Y</td>\n",
       "      <td>1.50</td>\n",
       "      <td>Flat</td>\n",
       "    </tr>\n",
       "    <tr>\n",
       "      <th>4</th>\n",
       "      <td>54</td>\n",
       "      <td>M</td>\n",
       "      <td>NAP</td>\n",
       "      <td>150</td>\n",
       "      <td>195</td>\n",
       "      <td>0</td>\n",
       "      <td>Normal</td>\n",
       "      <td>122</td>\n",
       "      <td>N</td>\n",
       "      <td>0.00</td>\n",
       "      <td>Up</td>\n",
       "    </tr>\n",
       "    <tr>\n",
       "      <th>...</th>\n",
       "      <td>...</td>\n",
       "      <td>...</td>\n",
       "      <td>...</td>\n",
       "      <td>...</td>\n",
       "      <td>...</td>\n",
       "      <td>...</td>\n",
       "      <td>...</td>\n",
       "      <td>...</td>\n",
       "      <td>...</td>\n",
       "      <td>...</td>\n",
       "      <td>...</td>\n",
       "    </tr>\n",
       "    <tr>\n",
       "      <th>913</th>\n",
       "      <td>45</td>\n",
       "      <td>M</td>\n",
       "      <td>TA</td>\n",
       "      <td>110</td>\n",
       "      <td>264</td>\n",
       "      <td>0</td>\n",
       "      <td>Normal</td>\n",
       "      <td>132</td>\n",
       "      <td>N</td>\n",
       "      <td>1.20</td>\n",
       "      <td>Flat</td>\n",
       "    </tr>\n",
       "    <tr>\n",
       "      <th>914</th>\n",
       "      <td>68</td>\n",
       "      <td>M</td>\n",
       "      <td>ASY</td>\n",
       "      <td>144</td>\n",
       "      <td>193</td>\n",
       "      <td>1</td>\n",
       "      <td>Normal</td>\n",
       "      <td>141</td>\n",
       "      <td>N</td>\n",
       "      <td>3.40</td>\n",
       "      <td>Flat</td>\n",
       "    </tr>\n",
       "    <tr>\n",
       "      <th>915</th>\n",
       "      <td>57</td>\n",
       "      <td>M</td>\n",
       "      <td>ASY</td>\n",
       "      <td>130</td>\n",
       "      <td>131</td>\n",
       "      <td>0</td>\n",
       "      <td>Normal</td>\n",
       "      <td>115</td>\n",
       "      <td>Y</td>\n",
       "      <td>1.20</td>\n",
       "      <td>Flat</td>\n",
       "    </tr>\n",
       "    <tr>\n",
       "      <th>916</th>\n",
       "      <td>57</td>\n",
       "      <td>F</td>\n",
       "      <td>ATA</td>\n",
       "      <td>130</td>\n",
       "      <td>236</td>\n",
       "      <td>0</td>\n",
       "      <td>LVH</td>\n",
       "      <td>174</td>\n",
       "      <td>N</td>\n",
       "      <td>0.00</td>\n",
       "      <td>Flat</td>\n",
       "    </tr>\n",
       "    <tr>\n",
       "      <th>917</th>\n",
       "      <td>38</td>\n",
       "      <td>M</td>\n",
       "      <td>NAP</td>\n",
       "      <td>138</td>\n",
       "      <td>175</td>\n",
       "      <td>0</td>\n",
       "      <td>Normal</td>\n",
       "      <td>173</td>\n",
       "      <td>N</td>\n",
       "      <td>0.00</td>\n",
       "      <td>Up</td>\n",
       "    </tr>\n",
       "  </tbody>\n",
       "</table>\n",
       "<p>918 rows × 11 columns</p>\n",
       "</div>"
      ],
      "text/plain": [
       "     Age Sex ChestPainType  RestingBP  Cholesterol  FastingBS RestingECG  \\\n",
       "0     40   M           ATA        140          289          0     Normal   \n",
       "1     49   F           NAP        160          180          0     Normal   \n",
       "2     37   M           ATA        130          283          0         ST   \n",
       "3     48   F           ASY        138          214          0     Normal   \n",
       "4     54   M           NAP        150          195          0     Normal   \n",
       "..   ...  ..           ...        ...          ...        ...        ...   \n",
       "913   45   M            TA        110          264          0     Normal   \n",
       "914   68   M           ASY        144          193          1     Normal   \n",
       "915   57   M           ASY        130          131          0     Normal   \n",
       "916   57   F           ATA        130          236          0        LVH   \n",
       "917   38   M           NAP        138          175          0     Normal   \n",
       "\n",
       "     MaxHR ExerciseAngina  Oldpeak ST_Slope  \n",
       "0      172              N     0.00       Up  \n",
       "1      156              N     1.00     Flat  \n",
       "2       98              N     0.00       Up  \n",
       "3      108              Y     1.50     Flat  \n",
       "4      122              N     0.00       Up  \n",
       "..     ...            ...      ...      ...  \n",
       "913    132              N     1.20     Flat  \n",
       "914    141              N     3.40     Flat  \n",
       "915    115              Y     1.20     Flat  \n",
       "916    174              N     0.00     Flat  \n",
       "917    173              N     0.00       Up  \n",
       "\n",
       "[918 rows x 11 columns]"
      ]
     },
     "execution_count": 4,
     "metadata": {},
     "output_type": "execute_result"
    }
   ],
   "source": [
    "X = df.iloc[:, :-1]\n",
    "y = df.iloc[:, -1]\n",
    "X"
   ]
  },
  {
   "cell_type": "code",
   "execution_count": 5,
   "id": "3dd2f9d0",
   "metadata": {
    "execution": {
     "iopub.execute_input": "2024-01-18T19:30:22.160129Z",
     "iopub.status.busy": "2024-01-18T19:30:22.159810Z",
     "iopub.status.idle": "2024-01-18T19:30:22.167373Z",
     "shell.execute_reply": "2024-01-18T19:30:22.166180Z"
    },
    "papermill": {
     "duration": 0.016051,
     "end_time": "2024-01-18T19:30:22.169710",
     "exception": false,
     "start_time": "2024-01-18T19:30:22.153659",
     "status": "completed"
    },
    "tags": []
   },
   "outputs": [
    {
     "data": {
      "text/plain": [
       "0      0\n",
       "1      1\n",
       "2      0\n",
       "3      1\n",
       "4      0\n",
       "      ..\n",
       "913    1\n",
       "914    1\n",
       "915    1\n",
       "916    1\n",
       "917    0\n",
       "Name: HeartDisease, Length: 918, dtype: int64"
      ]
     },
     "execution_count": 5,
     "metadata": {},
     "output_type": "execute_result"
    }
   ],
   "source": [
    "y"
   ]
  },
  {
   "cell_type": "markdown",
   "id": "0301962e",
   "metadata": {
    "papermill": {
     "duration": 0.005238,
     "end_time": "2024-01-18T19:30:22.180607",
     "exception": false,
     "start_time": "2024-01-18T19:30:22.175369",
     "status": "completed"
    },
    "tags": []
   },
   "source": [
    "### Encode string columns"
   ]
  },
  {
   "cell_type": "code",
   "execution_count": 6,
   "id": "753926b2",
   "metadata": {
    "execution": {
     "iopub.execute_input": "2024-01-18T19:30:22.193181Z",
     "iopub.status.busy": "2024-01-18T19:30:22.192838Z",
     "iopub.status.idle": "2024-01-18T19:30:22.212505Z",
     "shell.execute_reply": "2024-01-18T19:30:22.211678Z"
    },
    "papermill": {
     "duration": 0.028793,
     "end_time": "2024-01-18T19:30:22.214788",
     "exception": false,
     "start_time": "2024-01-18T19:30:22.185995",
     "status": "completed"
    },
    "tags": []
   },
   "outputs": [
    {
     "data": {
      "text/html": [
       "<div>\n",
       "<style scoped>\n",
       "    .dataframe tbody tr th:only-of-type {\n",
       "        vertical-align: middle;\n",
       "    }\n",
       "\n",
       "    .dataframe tbody tr th {\n",
       "        vertical-align: top;\n",
       "    }\n",
       "\n",
       "    .dataframe thead th {\n",
       "        text-align: right;\n",
       "    }\n",
       "</style>\n",
       "<table border=\"1\" class=\"dataframe\">\n",
       "  <thead>\n",
       "    <tr style=\"text-align: right;\">\n",
       "      <th></th>\n",
       "      <th>Age</th>\n",
       "      <th>Sex</th>\n",
       "      <th>ChestPainType</th>\n",
       "      <th>RestingBP</th>\n",
       "      <th>Cholesterol</th>\n",
       "      <th>FastingBS</th>\n",
       "      <th>RestingECG</th>\n",
       "      <th>MaxHR</th>\n",
       "      <th>ExerciseAngina</th>\n",
       "      <th>Oldpeak</th>\n",
       "      <th>ST_Slope</th>\n",
       "    </tr>\n",
       "  </thead>\n",
       "  <tbody>\n",
       "    <tr>\n",
       "      <th>0</th>\n",
       "      <td>12</td>\n",
       "      <td>1</td>\n",
       "      <td>1</td>\n",
       "      <td>41</td>\n",
       "      <td>147</td>\n",
       "      <td>0</td>\n",
       "      <td>1</td>\n",
       "      <td>98</td>\n",
       "      <td>0</td>\n",
       "      <td>10</td>\n",
       "      <td>2</td>\n",
       "    </tr>\n",
       "    <tr>\n",
       "      <th>1</th>\n",
       "      <td>21</td>\n",
       "      <td>0</td>\n",
       "      <td>2</td>\n",
       "      <td>55</td>\n",
       "      <td>40</td>\n",
       "      <td>0</td>\n",
       "      <td>1</td>\n",
       "      <td>82</td>\n",
       "      <td>0</td>\n",
       "      <td>20</td>\n",
       "      <td>1</td>\n",
       "    </tr>\n",
       "    <tr>\n",
       "      <th>2</th>\n",
       "      <td>9</td>\n",
       "      <td>1</td>\n",
       "      <td>1</td>\n",
       "      <td>31</td>\n",
       "      <td>141</td>\n",
       "      <td>0</td>\n",
       "      <td>2</td>\n",
       "      <td>25</td>\n",
       "      <td>0</td>\n",
       "      <td>10</td>\n",
       "      <td>2</td>\n",
       "    </tr>\n",
       "    <tr>\n",
       "      <th>3</th>\n",
       "      <td>20</td>\n",
       "      <td>0</td>\n",
       "      <td>0</td>\n",
       "      <td>39</td>\n",
       "      <td>72</td>\n",
       "      <td>0</td>\n",
       "      <td>1</td>\n",
       "      <td>34</td>\n",
       "      <td>1</td>\n",
       "      <td>25</td>\n",
       "      <td>1</td>\n",
       "    </tr>\n",
       "    <tr>\n",
       "      <th>4</th>\n",
       "      <td>26</td>\n",
       "      <td>1</td>\n",
       "      <td>2</td>\n",
       "      <td>49</td>\n",
       "      <td>53</td>\n",
       "      <td>0</td>\n",
       "      <td>1</td>\n",
       "      <td>48</td>\n",
       "      <td>0</td>\n",
       "      <td>10</td>\n",
       "      <td>2</td>\n",
       "    </tr>\n",
       "    <tr>\n",
       "      <th>...</th>\n",
       "      <td>...</td>\n",
       "      <td>...</td>\n",
       "      <td>...</td>\n",
       "      <td>...</td>\n",
       "      <td>...</td>\n",
       "      <td>...</td>\n",
       "      <td>...</td>\n",
       "      <td>...</td>\n",
       "      <td>...</td>\n",
       "      <td>...</td>\n",
       "      <td>...</td>\n",
       "    </tr>\n",
       "    <tr>\n",
       "      <th>913</th>\n",
       "      <td>17</td>\n",
       "      <td>1</td>\n",
       "      <td>3</td>\n",
       "      <td>14</td>\n",
       "      <td>122</td>\n",
       "      <td>0</td>\n",
       "      <td>1</td>\n",
       "      <td>58</td>\n",
       "      <td>0</td>\n",
       "      <td>22</td>\n",
       "      <td>1</td>\n",
       "    </tr>\n",
       "    <tr>\n",
       "      <th>914</th>\n",
       "      <td>40</td>\n",
       "      <td>1</td>\n",
       "      <td>0</td>\n",
       "      <td>45</td>\n",
       "      <td>51</td>\n",
       "      <td>1</td>\n",
       "      <td>1</td>\n",
       "      <td>67</td>\n",
       "      <td>0</td>\n",
       "      <td>42</td>\n",
       "      <td>1</td>\n",
       "    </tr>\n",
       "    <tr>\n",
       "      <th>915</th>\n",
       "      <td>29</td>\n",
       "      <td>1</td>\n",
       "      <td>0</td>\n",
       "      <td>31</td>\n",
       "      <td>9</td>\n",
       "      <td>0</td>\n",
       "      <td>1</td>\n",
       "      <td>41</td>\n",
       "      <td>1</td>\n",
       "      <td>22</td>\n",
       "      <td>1</td>\n",
       "    </tr>\n",
       "    <tr>\n",
       "      <th>916</th>\n",
       "      <td>29</td>\n",
       "      <td>0</td>\n",
       "      <td>1</td>\n",
       "      <td>31</td>\n",
       "      <td>94</td>\n",
       "      <td>0</td>\n",
       "      <td>0</td>\n",
       "      <td>100</td>\n",
       "      <td>0</td>\n",
       "      <td>10</td>\n",
       "      <td>1</td>\n",
       "    </tr>\n",
       "    <tr>\n",
       "      <th>917</th>\n",
       "      <td>10</td>\n",
       "      <td>1</td>\n",
       "      <td>2</td>\n",
       "      <td>39</td>\n",
       "      <td>35</td>\n",
       "      <td>0</td>\n",
       "      <td>1</td>\n",
       "      <td>99</td>\n",
       "      <td>0</td>\n",
       "      <td>10</td>\n",
       "      <td>2</td>\n",
       "    </tr>\n",
       "  </tbody>\n",
       "</table>\n",
       "<p>918 rows × 11 columns</p>\n",
       "</div>"
      ],
      "text/plain": [
       "     Age  Sex  ChestPainType  RestingBP  Cholesterol  FastingBS  RestingECG  \\\n",
       "0     12    1              1         41          147          0           1   \n",
       "1     21    0              2         55           40          0           1   \n",
       "2      9    1              1         31          141          0           2   \n",
       "3     20    0              0         39           72          0           1   \n",
       "4     26    1              2         49           53          0           1   \n",
       "..   ...  ...            ...        ...          ...        ...         ...   \n",
       "913   17    1              3         14          122          0           1   \n",
       "914   40    1              0         45           51          1           1   \n",
       "915   29    1              0         31            9          0           1   \n",
       "916   29    0              1         31           94          0           0   \n",
       "917   10    1              2         39           35          0           1   \n",
       "\n",
       "     MaxHR  ExerciseAngina  Oldpeak  ST_Slope  \n",
       "0       98               0       10         2  \n",
       "1       82               0       20         1  \n",
       "2       25               0       10         2  \n",
       "3       34               1       25         1  \n",
       "4       48               0       10         2  \n",
       "..     ...             ...      ...       ...  \n",
       "913     58               0       22         1  \n",
       "914     67               0       42         1  \n",
       "915     41               1       22         1  \n",
       "916    100               0       10         1  \n",
       "917     99               0       10         2  \n",
       "\n",
       "[918 rows x 11 columns]"
      ]
     },
     "execution_count": 6,
     "metadata": {},
     "output_type": "execute_result"
    }
   ],
   "source": [
    "X = X.apply(LabelEncoder().fit_transform)\n",
    "X"
   ]
  },
  {
   "cell_type": "markdown",
   "id": "a432f13d",
   "metadata": {
    "papermill": {
     "duration": 0.005198,
     "end_time": "2024-01-18T19:30:22.225822",
     "exception": false,
     "start_time": "2024-01-18T19:30:22.220624",
     "status": "completed"
    },
    "tags": []
   },
   "source": [
    "### Scaling Data"
   ]
  },
  {
   "cell_type": "code",
   "execution_count": 7,
   "id": "2f4b0c41",
   "metadata": {
    "execution": {
     "iopub.execute_input": "2024-01-18T19:30:22.240018Z",
     "iopub.status.busy": "2024-01-18T19:30:22.239399Z",
     "iopub.status.idle": "2024-01-18T19:30:22.249664Z",
     "shell.execute_reply": "2024-01-18T19:30:22.248656Z"
    },
    "papermill": {
     "duration": 0.020199,
     "end_time": "2024-01-18T19:30:22.252086",
     "exception": false,
     "start_time": "2024-01-18T19:30:22.231887",
     "status": "completed"
    },
    "tags": []
   },
   "outputs": [
    {
     "data": {
      "text/plain": [
       "array([[-1.4331398 ,  0.51595242,  0.22903206, ..., -0.8235563 ,\n",
       "        -0.87246276,  1.05211381],\n",
       "       [-0.47848359, -1.93816322,  1.27505906, ..., -0.8235563 ,\n",
       "         0.12037326, -0.59607813],\n",
       "       [-1.75135854,  0.51595242,  0.22903206, ..., -0.8235563 ,\n",
       "        -0.87246276,  1.05211381],\n",
       "       ...,\n",
       "       [ 0.37009972,  0.51595242, -0.81699495, ...,  1.21424608,\n",
       "         0.31894046, -0.59607813],\n",
       "       [ 0.37009972, -1.93816322,  0.22903206, ..., -0.8235563 ,\n",
       "        -0.87246276, -0.59607813],\n",
       "       [-1.64528563,  0.51595242,  1.27505906, ..., -0.8235563 ,\n",
       "        -0.87246276,  1.05211381]])"
      ]
     },
     "execution_count": 7,
     "metadata": {},
     "output_type": "execute_result"
    }
   ],
   "source": [
    "StandardScalerModel = StandardScaler()\n",
    "X = StandardScalerModel.fit_transform(X)\n",
    "X"
   ]
  },
  {
   "cell_type": "markdown",
   "id": "07562c52",
   "metadata": {
    "papermill": {
     "duration": 0.005512,
     "end_time": "2024-01-18T19:30:22.263607",
     "exception": false,
     "start_time": "2024-01-18T19:30:22.258095",
     "status": "completed"
    },
    "tags": []
   },
   "source": [
    "### Split data into train and test"
   ]
  },
  {
   "cell_type": "code",
   "execution_count": 8,
   "id": "320a7442",
   "metadata": {
    "execution": {
     "iopub.execute_input": "2024-01-18T19:30:22.277510Z",
     "iopub.status.busy": "2024-01-18T19:30:22.276670Z",
     "iopub.status.idle": "2024-01-18T19:30:22.282469Z",
     "shell.execute_reply": "2024-01-18T19:30:22.281354Z"
    },
    "papermill": {
     "duration": 0.015153,
     "end_time": "2024-01-18T19:30:22.284325",
     "exception": false,
     "start_time": "2024-01-18T19:30:22.269172",
     "status": "completed"
    },
    "tags": []
   },
   "outputs": [],
   "source": [
    "X_train, X_test, y_train, y_test = train_test_split(X, y, test_size=0.2, random_state=0, shuffle=True)"
   ]
  },
  {
   "cell_type": "code",
   "execution_count": 9,
   "id": "a6e28ac0",
   "metadata": {
    "execution": {
     "iopub.execute_input": "2024-01-18T19:30:22.298329Z",
     "iopub.status.busy": "2024-01-18T19:30:22.297664Z",
     "iopub.status.idle": "2024-01-18T19:30:22.303004Z",
     "shell.execute_reply": "2024-01-18T19:30:22.302134Z"
    },
    "papermill": {
     "duration": 0.015027,
     "end_time": "2024-01-18T19:30:22.305370",
     "exception": false,
     "start_time": "2024-01-18T19:30:22.290343",
     "status": "completed"
    },
    "tags": []
   },
   "outputs": [
    {
     "data": {
      "text/plain": [
       "(734, 11)"
      ]
     },
     "execution_count": 9,
     "metadata": {},
     "output_type": "execute_result"
    }
   ],
   "source": [
    "X_train.shape"
   ]
  },
  {
   "cell_type": "code",
   "execution_count": 10,
   "id": "0e075d88",
   "metadata": {
    "execution": {
     "iopub.execute_input": "2024-01-18T19:30:22.319790Z",
     "iopub.status.busy": "2024-01-18T19:30:22.319067Z",
     "iopub.status.idle": "2024-01-18T19:30:22.325477Z",
     "shell.execute_reply": "2024-01-18T19:30:22.324319Z"
    },
    "papermill": {
     "duration": 0.016035,
     "end_time": "2024-01-18T19:30:22.327692",
     "exception": false,
     "start_time": "2024-01-18T19:30:22.311657",
     "status": "completed"
    },
    "tags": []
   },
   "outputs": [
    {
     "data": {
      "text/plain": [
       "(184, 11)"
      ]
     },
     "execution_count": 10,
     "metadata": {},
     "output_type": "execute_result"
    }
   ],
   "source": [
    "X_test.shape"
   ]
  },
  {
   "cell_type": "markdown",
   "id": "a0083aca",
   "metadata": {
    "papermill": {
     "duration": 0.00555,
     "end_time": "2024-01-18T19:30:22.339495",
     "exception": false,
     "start_time": "2024-01-18T19:30:22.333945",
     "status": "completed"
    },
    "tags": []
   },
   "source": [
    "# Create Model"
   ]
  },
  {
   "cell_type": "code",
   "execution_count": 11,
   "id": "37477fca",
   "metadata": {
    "collapsed": true,
    "execution": {
     "iopub.execute_input": "2024-01-18T19:30:22.353159Z",
     "iopub.status.busy": "2024-01-18T19:30:22.352853Z",
     "iopub.status.idle": "2024-01-18T19:30:24.398493Z",
     "shell.execute_reply": "2024-01-18T19:30:24.397120Z"
    },
    "jupyter": {
     "outputs_hidden": true
    },
    "papermill": {
     "duration": 2.055727,
     "end_time": "2024-01-18T19:30:24.400847",
     "exception": false,
     "start_time": "2024-01-18T19:30:22.345120",
     "status": "completed"
    },
    "tags": []
   },
   "outputs": [
    {
     "name": "stderr",
     "output_type": "stream",
     "text": [
      " 14%|█▍        | 4/29 [00:00<00:01, 14.08it/s]"
     ]
    },
    {
     "name": "stdout",
     "output_type": "stream",
     "text": [
      "{'Model': 'AdaBoostClassifier', 'Accuracy': 0.8369565217391305, 'Balanced Accuracy': 0.827042116761743, 'ROC AUC': 0.8270421167617429, 'F1 Score': 0.8358749065270805, 'Time taken': 0.11402320861816406}\n",
      "{'Model': 'BaggingClassifier', 'Accuracy': 0.842391304347826, 'Balanced Accuracy': 0.8408180604442287, 'ROC AUC': 0.8408180604442287, 'F1 Score': 0.8427766789470299, 'Time taken': 0.04504704475402832}\n",
      "{'Model': 'BernoulliNB', 'Accuracy': 0.8152173913043478, 'Balanced Accuracy': 0.8119917465711859, 'ROC AUC': 0.8119917465711858, 'F1 Score': 0.81553027912749, 'Time taken': 0.020058870315551758}\n",
      "{'Model': 'CalibratedClassifierCV', 'Accuracy': 0.8315217391304348, 'Balanced Accuracy': 0.8223692195654813, 'ROC AUC': 0.8223692195654811, 'F1 Score': 0.8306181904910375, 'Time taken': 0.11676549911499023}\n"
     ]
    },
    {
     "name": "stderr",
     "output_type": "stream",
     "text": [
      " 31%|███       | 9/29 [00:00<00:01, 19.42it/s]"
     ]
    },
    {
     "name": "stdout",
     "output_type": "stream",
     "text": [
      "{'Model': 'DecisionTreeClassifier', 'Accuracy': 0.7663043478260869, 'Balanced Accuracy': 0.7699356718048307, 'ROC AUC': 0.7699356718048307, 'F1 Score': 0.7677625472977796, 'Time taken': 0.015985488891601562}\n",
      "{'Model': 'DummyClassifier', 'Accuracy': 0.5815217391304348, 'Balanced Accuracy': 0.5, 'ROC AUC': 0.5, 'F1 Score': 0.4276482892574332, 'Time taken': 0.011894464492797852}\n",
      "{'Model': 'ExtraTreeClassifier', 'Accuracy': 0.8315217391304348, 'Balanced Accuracy': 0.8296516567544605, 'ROC AUC': 0.8296516567544603, 'F1 Score': 0.8319336912882044, 'Time taken': 0.011736154556274414}\n",
      "{'Model': 'ExtraTreesClassifier', 'Accuracy': 0.8641304347826086, 'Balanced Accuracy': 0.8558684306347858, 'ROC AUC': 0.8558684306347858, 'F1 Score': 0.8634017665250302, 'Time taken': 0.15875768661499023}\n",
      "{'Model': 'GaussianNB', 'Accuracy': 0.8260869565217391, 'Balanced Accuracy': 0.8213375409637091, 'ROC AUC': 0.8213375409637091, 'F1 Score': 0.8260869565217391, 'Time taken': 0.016239404678344727}\n"
     ]
    },
    {
     "name": "stderr",
     "output_type": "stream",
     "text": [
      " 41%|████▏     | 12/29 [00:00<00:00, 19.43it/s]"
     ]
    },
    {
     "name": "stdout",
     "output_type": "stream",
     "text": [
      "{'Model': 'KNeighborsClassifier', 'Accuracy': 0.8532608695652174, 'Balanced Accuracy': 0.850163854836752, 'ROC AUC': 0.850163854836752, 'F1 Score': 0.8533897635462142, 'Time taken': 0.03380942344665527}\n",
      "{'Model': 'LabelPropagation', 'Accuracy': 0.8206521739130435, 'Balanced Accuracy': 0.8166646437674475, 'ROC AUC': 0.8166646437674474, 'F1 Score': 0.8208097110009284, 'Time taken': 0.10285067558288574}\n"
     ]
    },
    {
     "name": "stderr",
     "output_type": "stream",
     "text": [
      " 62%|██████▏   | 18/29 [00:00<00:00, 19.74it/s]"
     ]
    },
    {
     "name": "stdout",
     "output_type": "stream",
     "text": [
      "{'Model': 'LabelSpreading', 'Accuracy': 0.8206521739130435, 'Balanced Accuracy': 0.8166646437674475, 'ROC AUC': 0.8166646437674474, 'F1 Score': 0.8208097110009284, 'Time taken': 0.12416195869445801}\n",
      "{'Model': 'LinearDiscriminantAnalysis', 'Accuracy': 0.8369565217391305, 'Balanced Accuracy': 0.8306833353562326, 'ROC AUC': 0.8306833353562325, 'F1 Score': 0.8366386981947622, 'Time taken': 0.06966042518615723}\n",
      "{'Model': 'LinearSVC', 'Accuracy': 0.8260869565217391, 'Balanced Accuracy': 0.8176963223692195, 'ROC AUC': 0.8176963223692195, 'F1 Score': 0.8253636484510037, 'Time taken': 0.04872560501098633}\n",
      "{'Model': 'LogisticRegression', 'Accuracy': 0.8315217391304348, 'Balanced Accuracy': 0.8241898288627261, 'ROC AUC': 0.8241898288627261, 'F1 Score': 0.8310127102957509, 'Time taken': 0.01883697509765625}\n",
      "{'Model': 'NearestCentroid', 'Accuracy': 0.8315217391304348, 'Balanced Accuracy': 0.835113484646195, 'ROC AUC': 0.8351134846461951, 'F1 Score': 0.8324746761738089, 'Time taken': 0.01917433738708496}\n",
      "{'Model': 'NuSVC', 'Accuracy': 0.8369565217391305, 'Balanced Accuracy': 0.8252215074644982, 'ROC AUC': 0.8252215074644982, 'F1 Score': 0.8354272974582683, 'Time taken': 0.029469013214111328}\n",
      "{'Model': 'PassiveAggressiveClassifier', 'Accuracy': 0.8152173913043478, 'Balanced Accuracy': 0.8083505279766963, 'ROC AUC': 0.8083505279766963, 'F1 Score': 0.8148571912873971, 'Time taken': 0.017040491104125977}\n",
      "{'Model': 'Perceptron', 'Accuracy': 0.7771739130434783, 'Balanced Accuracy': 0.77017841971113, 'ROC AUC': 0.77017841971113, 'F1 Score': 0.7769639234190475, 'Time taken': 0.015702247619628906}\n",
      "{'Model': 'QuadraticDiscriminantAnalysis', 'Accuracy': 0.8097826086956522, 'Balanced Accuracy': 0.7982158028887001, 'ROC AUC': 0.7982158028887001, 'F1 Score': 0.8082661158108728, 'Time taken': 0.022910594940185547}\n"
     ]
    },
    {
     "name": "stderr",
     "output_type": "stream",
     "text": [
      " 97%|█████████▋| 28/29 [00:01<00:00, 22.50it/s]"
     ]
    },
    {
     "name": "stdout",
     "output_type": "stream",
     "text": [
      "{'Model': 'RandomForestClassifier', 'Accuracy': 0.842391304347826, 'Balanced Accuracy': 0.8335356232552494, 'ROC AUC': 0.8335356232552494, 'F1 Score': 0.8415460491690352, 'Time taken': 0.19326329231262207}\n",
      "{'Model': 'RidgeClassifier', 'Accuracy': 0.8369565217391305, 'Balanced Accuracy': 0.8306833353562326, 'ROC AUC': 0.8306833353562325, 'F1 Score': 0.8366386981947622, 'Time taken': 0.027472972869873047}\n",
      "{'Model': 'RidgeClassifierCV', 'Accuracy': 0.8315217391304348, 'Balanced Accuracy': 0.8260104381599709, 'ROC AUC': 0.8260104381599709, 'F1 Score': 0.8313629664875727, 'Time taken': 0.01352238655090332}\n",
      "{'Model': 'SGDClassifier', 'Accuracy': 0.8097826086956522, 'Balanced Accuracy': 0.8036776307804345, 'ROC AUC': 0.8036776307804345, 'F1 Score': 0.8096033492601624, 'Time taken': 0.014966011047363281}\n",
      "{'Model': 'SVC', 'Accuracy': 0.8586956521739131, 'Balanced Accuracy': 0.8511955334385242, 'ROC AUC': 0.8511955334385242, 'F1 Score': 0.8581079643664407, 'Time taken': 0.02370476722717285}\n",
      "{'Model': 'XGBClassifier', 'Accuracy': 0.842391304347826, 'Balanced Accuracy': 0.8353562325524942, 'ROC AUC': 0.8353562325524941, 'F1 Score': 0.8419151160831219, 'Time taken': 0.10610532760620117}\n"
     ]
    },
    {
     "name": "stderr",
     "output_type": "stream",
     "text": [
      "100%|██████████| 29/29 [00:02<00:00, 14.29it/s]"
     ]
    },
    {
     "name": "stdout",
     "output_type": "stream",
     "text": [
      "{'Model': 'LGBMClassifier', 'Accuracy': 0.8532608695652174, 'Balanced Accuracy': 0.8483432455395072, 'ROC AUC': 0.8483432455395071, 'F1 Score': 0.8531225837149826, 'Time taken': 0.5981218814849854}\n"
     ]
    },
    {
     "name": "stderr",
     "output_type": "stream",
     "text": [
      "\n"
     ]
    }
   ],
   "source": [
    "clf = LazyClassifier(verbose=1)\n",
    "models, predictions = clf.fit(X_train, X_test, y_train, y_test)"
   ]
  },
  {
   "cell_type": "code",
   "execution_count": 12,
   "id": "141cd30a",
   "metadata": {
    "execution": {
     "iopub.execute_input": "2024-01-18T19:30:24.416746Z",
     "iopub.status.busy": "2024-01-18T19:30:24.416408Z",
     "iopub.status.idle": "2024-01-18T19:30:24.431490Z",
     "shell.execute_reply": "2024-01-18T19:30:24.430063Z"
    },
    "papermill": {
     "duration": 0.025269,
     "end_time": "2024-01-18T19:30:24.433413",
     "exception": false,
     "start_time": "2024-01-18T19:30:24.408144",
     "status": "completed"
    },
    "tags": []
   },
   "outputs": [
    {
     "data": {
      "text/html": [
       "<div>\n",
       "<style scoped>\n",
       "    .dataframe tbody tr th:only-of-type {\n",
       "        vertical-align: middle;\n",
       "    }\n",
       "\n",
       "    .dataframe tbody tr th {\n",
       "        vertical-align: top;\n",
       "    }\n",
       "\n",
       "    .dataframe thead th {\n",
       "        text-align: right;\n",
       "    }\n",
       "</style>\n",
       "<table border=\"1\" class=\"dataframe\">\n",
       "  <thead>\n",
       "    <tr style=\"text-align: right;\">\n",
       "      <th></th>\n",
       "      <th>Accuracy</th>\n",
       "      <th>Balanced Accuracy</th>\n",
       "      <th>ROC AUC</th>\n",
       "      <th>F1 Score</th>\n",
       "      <th>Time Taken</th>\n",
       "    </tr>\n",
       "    <tr>\n",
       "      <th>Model</th>\n",
       "      <th></th>\n",
       "      <th></th>\n",
       "      <th></th>\n",
       "      <th></th>\n",
       "      <th></th>\n",
       "    </tr>\n",
       "  </thead>\n",
       "  <tbody>\n",
       "    <tr>\n",
       "      <th>ExtraTreesClassifier</th>\n",
       "      <td>0.86</td>\n",
       "      <td>0.86</td>\n",
       "      <td>0.86</td>\n",
       "      <td>0.86</td>\n",
       "      <td>0.16</td>\n",
       "    </tr>\n",
       "    <tr>\n",
       "      <th>SVC</th>\n",
       "      <td>0.86</td>\n",
       "      <td>0.85</td>\n",
       "      <td>0.85</td>\n",
       "      <td>0.86</td>\n",
       "      <td>0.02</td>\n",
       "    </tr>\n",
       "    <tr>\n",
       "      <th>KNeighborsClassifier</th>\n",
       "      <td>0.85</td>\n",
       "      <td>0.85</td>\n",
       "      <td>0.85</td>\n",
       "      <td>0.85</td>\n",
       "      <td>0.03</td>\n",
       "    </tr>\n",
       "    <tr>\n",
       "      <th>LGBMClassifier</th>\n",
       "      <td>0.85</td>\n",
       "      <td>0.85</td>\n",
       "      <td>0.85</td>\n",
       "      <td>0.85</td>\n",
       "      <td>0.60</td>\n",
       "    </tr>\n",
       "    <tr>\n",
       "      <th>BaggingClassifier</th>\n",
       "      <td>0.84</td>\n",
       "      <td>0.84</td>\n",
       "      <td>0.84</td>\n",
       "      <td>0.84</td>\n",
       "      <td>0.05</td>\n",
       "    </tr>\n",
       "    <tr>\n",
       "      <th>XGBClassifier</th>\n",
       "      <td>0.84</td>\n",
       "      <td>0.84</td>\n",
       "      <td>0.84</td>\n",
       "      <td>0.84</td>\n",
       "      <td>0.11</td>\n",
       "    </tr>\n",
       "    <tr>\n",
       "      <th>NearestCentroid</th>\n",
       "      <td>0.83</td>\n",
       "      <td>0.84</td>\n",
       "      <td>0.84</td>\n",
       "      <td>0.83</td>\n",
       "      <td>0.02</td>\n",
       "    </tr>\n",
       "    <tr>\n",
       "      <th>RandomForestClassifier</th>\n",
       "      <td>0.84</td>\n",
       "      <td>0.83</td>\n",
       "      <td>0.83</td>\n",
       "      <td>0.84</td>\n",
       "      <td>0.19</td>\n",
       "    </tr>\n",
       "    <tr>\n",
       "      <th>LinearDiscriminantAnalysis</th>\n",
       "      <td>0.84</td>\n",
       "      <td>0.83</td>\n",
       "      <td>0.83</td>\n",
       "      <td>0.84</td>\n",
       "      <td>0.07</td>\n",
       "    </tr>\n",
       "    <tr>\n",
       "      <th>RidgeClassifier</th>\n",
       "      <td>0.84</td>\n",
       "      <td>0.83</td>\n",
       "      <td>0.83</td>\n",
       "      <td>0.84</td>\n",
       "      <td>0.03</td>\n",
       "    </tr>\n",
       "    <tr>\n",
       "      <th>ExtraTreeClassifier</th>\n",
       "      <td>0.83</td>\n",
       "      <td>0.83</td>\n",
       "      <td>0.83</td>\n",
       "      <td>0.83</td>\n",
       "      <td>0.01</td>\n",
       "    </tr>\n",
       "    <tr>\n",
       "      <th>AdaBoostClassifier</th>\n",
       "      <td>0.84</td>\n",
       "      <td>0.83</td>\n",
       "      <td>0.83</td>\n",
       "      <td>0.84</td>\n",
       "      <td>0.11</td>\n",
       "    </tr>\n",
       "    <tr>\n",
       "      <th>RidgeClassifierCV</th>\n",
       "      <td>0.83</td>\n",
       "      <td>0.83</td>\n",
       "      <td>0.83</td>\n",
       "      <td>0.83</td>\n",
       "      <td>0.01</td>\n",
       "    </tr>\n",
       "    <tr>\n",
       "      <th>NuSVC</th>\n",
       "      <td>0.84</td>\n",
       "      <td>0.83</td>\n",
       "      <td>0.83</td>\n",
       "      <td>0.84</td>\n",
       "      <td>0.03</td>\n",
       "    </tr>\n",
       "    <tr>\n",
       "      <th>LogisticRegression</th>\n",
       "      <td>0.83</td>\n",
       "      <td>0.82</td>\n",
       "      <td>0.82</td>\n",
       "      <td>0.83</td>\n",
       "      <td>0.02</td>\n",
       "    </tr>\n",
       "    <tr>\n",
       "      <th>CalibratedClassifierCV</th>\n",
       "      <td>0.83</td>\n",
       "      <td>0.82</td>\n",
       "      <td>0.82</td>\n",
       "      <td>0.83</td>\n",
       "      <td>0.12</td>\n",
       "    </tr>\n",
       "    <tr>\n",
       "      <th>GaussianNB</th>\n",
       "      <td>0.83</td>\n",
       "      <td>0.82</td>\n",
       "      <td>0.82</td>\n",
       "      <td>0.83</td>\n",
       "      <td>0.02</td>\n",
       "    </tr>\n",
       "    <tr>\n",
       "      <th>LinearSVC</th>\n",
       "      <td>0.83</td>\n",
       "      <td>0.82</td>\n",
       "      <td>0.82</td>\n",
       "      <td>0.83</td>\n",
       "      <td>0.05</td>\n",
       "    </tr>\n",
       "    <tr>\n",
       "      <th>LabelSpreading</th>\n",
       "      <td>0.82</td>\n",
       "      <td>0.82</td>\n",
       "      <td>0.82</td>\n",
       "      <td>0.82</td>\n",
       "      <td>0.12</td>\n",
       "    </tr>\n",
       "    <tr>\n",
       "      <th>LabelPropagation</th>\n",
       "      <td>0.82</td>\n",
       "      <td>0.82</td>\n",
       "      <td>0.82</td>\n",
       "      <td>0.82</td>\n",
       "      <td>0.10</td>\n",
       "    </tr>\n",
       "    <tr>\n",
       "      <th>BernoulliNB</th>\n",
       "      <td>0.82</td>\n",
       "      <td>0.81</td>\n",
       "      <td>0.81</td>\n",
       "      <td>0.82</td>\n",
       "      <td>0.02</td>\n",
       "    </tr>\n",
       "    <tr>\n",
       "      <th>PassiveAggressiveClassifier</th>\n",
       "      <td>0.82</td>\n",
       "      <td>0.81</td>\n",
       "      <td>0.81</td>\n",
       "      <td>0.81</td>\n",
       "      <td>0.02</td>\n",
       "    </tr>\n",
       "    <tr>\n",
       "      <th>SGDClassifier</th>\n",
       "      <td>0.81</td>\n",
       "      <td>0.80</td>\n",
       "      <td>0.80</td>\n",
       "      <td>0.81</td>\n",
       "      <td>0.01</td>\n",
       "    </tr>\n",
       "    <tr>\n",
       "      <th>QuadraticDiscriminantAnalysis</th>\n",
       "      <td>0.81</td>\n",
       "      <td>0.80</td>\n",
       "      <td>0.80</td>\n",
       "      <td>0.81</td>\n",
       "      <td>0.02</td>\n",
       "    </tr>\n",
       "    <tr>\n",
       "      <th>Perceptron</th>\n",
       "      <td>0.78</td>\n",
       "      <td>0.77</td>\n",
       "      <td>0.77</td>\n",
       "      <td>0.78</td>\n",
       "      <td>0.02</td>\n",
       "    </tr>\n",
       "    <tr>\n",
       "      <th>DecisionTreeClassifier</th>\n",
       "      <td>0.77</td>\n",
       "      <td>0.77</td>\n",
       "      <td>0.77</td>\n",
       "      <td>0.77</td>\n",
       "      <td>0.02</td>\n",
       "    </tr>\n",
       "    <tr>\n",
       "      <th>DummyClassifier</th>\n",
       "      <td>0.58</td>\n",
       "      <td>0.50</td>\n",
       "      <td>0.50</td>\n",
       "      <td>0.43</td>\n",
       "      <td>0.01</td>\n",
       "    </tr>\n",
       "  </tbody>\n",
       "</table>\n",
       "</div>"
      ],
      "text/plain": [
       "                               Accuracy  Balanced Accuracy  ROC AUC  F1 Score  \\\n",
       "Model                                                                           \n",
       "ExtraTreesClassifier               0.86               0.86     0.86      0.86   \n",
       "SVC                                0.86               0.85     0.85      0.86   \n",
       "KNeighborsClassifier               0.85               0.85     0.85      0.85   \n",
       "LGBMClassifier                     0.85               0.85     0.85      0.85   \n",
       "BaggingClassifier                  0.84               0.84     0.84      0.84   \n",
       "XGBClassifier                      0.84               0.84     0.84      0.84   \n",
       "NearestCentroid                    0.83               0.84     0.84      0.83   \n",
       "RandomForestClassifier             0.84               0.83     0.83      0.84   \n",
       "LinearDiscriminantAnalysis         0.84               0.83     0.83      0.84   \n",
       "RidgeClassifier                    0.84               0.83     0.83      0.84   \n",
       "ExtraTreeClassifier                0.83               0.83     0.83      0.83   \n",
       "AdaBoostClassifier                 0.84               0.83     0.83      0.84   \n",
       "RidgeClassifierCV                  0.83               0.83     0.83      0.83   \n",
       "NuSVC                              0.84               0.83     0.83      0.84   \n",
       "LogisticRegression                 0.83               0.82     0.82      0.83   \n",
       "CalibratedClassifierCV             0.83               0.82     0.82      0.83   \n",
       "GaussianNB                         0.83               0.82     0.82      0.83   \n",
       "LinearSVC                          0.83               0.82     0.82      0.83   \n",
       "LabelSpreading                     0.82               0.82     0.82      0.82   \n",
       "LabelPropagation                   0.82               0.82     0.82      0.82   \n",
       "BernoulliNB                        0.82               0.81     0.81      0.82   \n",
       "PassiveAggressiveClassifier        0.82               0.81     0.81      0.81   \n",
       "SGDClassifier                      0.81               0.80     0.80      0.81   \n",
       "QuadraticDiscriminantAnalysis      0.81               0.80     0.80      0.81   \n",
       "Perceptron                         0.78               0.77     0.77      0.78   \n",
       "DecisionTreeClassifier             0.77               0.77     0.77      0.77   \n",
       "DummyClassifier                    0.58               0.50     0.50      0.43   \n",
       "\n",
       "                               Time Taken  \n",
       "Model                                      \n",
       "ExtraTreesClassifier                 0.16  \n",
       "SVC                                  0.02  \n",
       "KNeighborsClassifier                 0.03  \n",
       "LGBMClassifier                       0.60  \n",
       "BaggingClassifier                    0.05  \n",
       "XGBClassifier                        0.11  \n",
       "NearestCentroid                      0.02  \n",
       "RandomForestClassifier               0.19  \n",
       "LinearDiscriminantAnalysis           0.07  \n",
       "RidgeClassifier                      0.03  \n",
       "ExtraTreeClassifier                  0.01  \n",
       "AdaBoostClassifier                   0.11  \n",
       "RidgeClassifierCV                    0.01  \n",
       "NuSVC                                0.03  \n",
       "LogisticRegression                   0.02  \n",
       "CalibratedClassifierCV               0.12  \n",
       "GaussianNB                           0.02  \n",
       "LinearSVC                            0.05  \n",
       "LabelSpreading                       0.12  \n",
       "LabelPropagation                     0.10  \n",
       "BernoulliNB                          0.02  \n",
       "PassiveAggressiveClassifier          0.02  \n",
       "SGDClassifier                        0.01  \n",
       "QuadraticDiscriminantAnalysis        0.02  \n",
       "Perceptron                           0.02  \n",
       "DecisionTreeClassifier               0.02  \n",
       "DummyClassifier                      0.01  "
      ]
     },
     "execution_count": 12,
     "metadata": {},
     "output_type": "execute_result"
    }
   ],
   "source": [
    "score = pd.DataFrame(models)\n",
    "score"
   ]
  },
  {
   "cell_type": "markdown",
   "id": "39f67898",
   "metadata": {
    "papermill": {
     "duration": 0.006826,
     "end_time": "2024-01-18T19:30:24.447587",
     "exception": false,
     "start_time": "2024-01-18T19:30:24.440761",
     "status": "completed"
    },
    "tags": []
   },
   "source": []
  }
 ],
 "metadata": {
  "kaggle": {
   "accelerator": "none",
   "dataSources": [
    {
     "datasetId": 1582403,
     "sourceId": 2603715,
     "sourceType": "datasetVersion"
    }
   ],
   "dockerImageVersionId": 30635,
   "isGpuEnabled": false,
   "isInternetEnabled": true,
   "language": "python",
   "sourceType": "notebook"
  },
  "kernelspec": {
   "display_name": "Python 3",
   "language": "python",
   "name": "python3"
  },
  "language_info": {
   "codemirror_mode": {
    "name": "ipython",
    "version": 3
   },
   "file_extension": ".py",
   "mimetype": "text/x-python",
   "name": "python",
   "nbconvert_exporter": "python",
   "pygments_lexer": "ipython3",
   "version": "3.10.12"
  },
  "papermill": {
   "default_parameters": {},
   "duration": 22.147171,
   "end_time": "2024-01-18T19:30:25.275963",
   "environment_variables": {},
   "exception": null,
   "input_path": "__notebook__.ipynb",
   "output_path": "__notebook__.ipynb",
   "parameters": {},
   "start_time": "2024-01-18T19:30:03.128792",
   "version": "2.4.0"
  }
 },
 "nbformat": 4,
 "nbformat_minor": 5
}
